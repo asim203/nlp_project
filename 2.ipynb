{
 "cells": [
  {
   "cell_type": "code",
   "execution_count": 1,
   "metadata": {},
   "outputs": [],
   "source": [
    "import pandas as pd\n",
    "import numpy as np\n",
    "from glob import glob\n",
    "from tqdm import tqdm\n",
    "import pickle"
   ]
  },
  {
   "cell_type": "code",
   "execution_count": 2,
   "metadata": {},
   "outputs": [
    {
     "name": "stderr",
     "output_type": "stream",
     "text": [
      "/home/cr/anaconda3/envs/nlp/lib/python3.8/site-packages/matplotlib_inline/config.py:66: DeprecationWarning: InlineBackend._figure_formats_changed is deprecated in traitlets 4.1: use @observe and @unobserve instead.\n",
      "  def _figure_formats_changed(self, name, old, new):\n"
     ]
    }
   ],
   "source": [
    "import re\n",
    "import numpy as np\n",
    "import gensim\n",
    "import gensim.corpora as corpora\n",
    "from gensim.utils import simple_preprocess\n",
    "from gensim.models import CoherenceModel\n",
    "from gensim.models.phrases import Phrases, Phraser\n",
    "from nltk.corpus import stopwords\n",
    "# spacy for lemmatization\n",
    "import spacy\n",
    "# for plotting\n",
    "import pyLDAvis\n",
    "import pyLDAvis.gensim\n",
    "import matplotlib.pyplot as plt"
   ]
  },
  {
   "cell_type": "code",
   "execution_count": 3,
   "metadata": {},
   "outputs": [],
   "source": [
    "import warnings\n",
    "warnings.filterwarnings(\"ignore\",category=DeprecationWarning)"
   ]
  },
  {
   "cell_type": "code",
   "execution_count": 4,
   "metadata": {},
   "outputs": [],
   "source": [
    "all_files=glob('emails/*.txt')"
   ]
  },
  {
   "cell_type": "code",
   "execution_count": 5,
   "metadata": {},
   "outputs": [
    {
     "data": {
      "text/plain": [
       "11313"
      ]
     },
     "execution_count": 5,
     "metadata": {},
     "output_type": "execute_result"
    }
   ],
   "source": [
    "len(all_files)"
   ]
  },
  {
   "cell_type": "code",
   "execution_count": 6,
   "metadata": {},
   "outputs": [],
   "source": [
    "with open(all_files[0]) as f:\n",
    "    contents = f.read()\n",
    "    f.close()"
   ]
  },
  {
   "cell_type": "code",
   "execution_count": 7,
   "metadata": {},
   "outputs": [
    {
     "name": "stderr",
     "output_type": "stream",
     "text": [
      "100%|██████████| 11313/11313 [00:00<00:00, 77319.18it/s]\n"
     ]
    }
   ],
   "source": [
    "file_data=[]\n",
    "for x in tqdm(all_files):\n",
    "    with open(x, encoding='utf-8',errors='ignore') as f:\n",
    "        contents = f.read()\n",
    "        file_data.append(contents)\n",
    "    f.close()"
   ]
  },
  {
   "cell_type": "code",
   "execution_count": 8,
   "metadata": {},
   "outputs": [
    {
     "data": {
      "text/plain": [
       "11313"
      ]
     },
     "execution_count": 8,
     "metadata": {},
     "output_type": "execute_result"
    }
   ],
   "source": [
    "len(file_data)"
   ]
  },
  {
   "cell_type": "code",
   "execution_count": 9,
   "metadata": {},
   "outputs": [],
   "source": [
    "df={'emails':file_data,'files':all_files}\n",
    "df = pd.DataFrame(df)"
   ]
  },
  {
   "cell_type": "code",
   "execution_count": 10,
   "metadata": {},
   "outputs": [],
   "source": [
    "df.to_csv('emails.csv')"
   ]
  },
  {
   "cell_type": "code",
   "execution_count": 11,
   "metadata": {},
   "outputs": [],
   "source": [
    "def parse_raw_message(raw_message):\n",
    "    lines = raw_message.split('\\n')\n",
    "    email = {}\n",
    "    message = ''\n",
    "    keys_to_extract = ['from', 'to']\n",
    "    for line in lines:\n",
    "        if ':' not in line:\n",
    "            message += line.strip()\n",
    "            email['body'] = message\n",
    "        else:\n",
    "            pairs = line.split(':')\n",
    "            key = pairs[0].lower()\n",
    "            val = pairs[1].strip()\n",
    "            if key in keys_to_extract:\n",
    "                email[key] = val\n",
    "    return email"
   ]
  },
  {
   "cell_type": "code",
   "execution_count": 12,
   "metadata": {},
   "outputs": [],
   "source": [
    "def map_to_list(emails, key):\n",
    "    results = []\n",
    "    for email in emails:\n",
    "        if key not in email:\n",
    "            results.append('')\n",
    "        else:\n",
    "            results.append(email[key])\n",
    "    return results"
   ]
  },
  {
   "cell_type": "code",
   "execution_count": 13,
   "metadata": {},
   "outputs": [],
   "source": [
    "def parse_into_emails(messages):\n",
    "    emails = [parse_raw_message(message) for message in messages]\n",
    "    return {\n",
    "        'body': map_to_list(emails, 'body'),\n",
    "        'to': map_to_list(emails, 'to'),\n",
    "        'from_': map_to_list(emails, 'from')\n",
    "    }"
   ]
  },
  {
   "cell_type": "code",
   "execution_count": 14,
   "metadata": {},
   "outputs": [],
   "source": [
    "email_df = pd.DataFrame(parse_into_emails(df.emails))"
   ]
  },
  {
   "cell_type": "code",
   "execution_count": 15,
   "metadata": {},
   "outputs": [
    {
     "data": {
      "text/html": [
       "<div>\n",
       "<style scoped>\n",
       "    .dataframe tbody tr th:only-of-type {\n",
       "        vertical-align: middle;\n",
       "    }\n",
       "\n",
       "    .dataframe tbody tr th {\n",
       "        vertical-align: top;\n",
       "    }\n",
       "\n",
       "    .dataframe thead th {\n",
       "        text-align: right;\n",
       "    }\n",
       "</style>\n",
       "<table border=\"1\" class=\"dataframe\">\n",
       "  <thead>\n",
       "    <tr style=\"text-align: right;\">\n",
       "      <th></th>\n",
       "      <th>body</th>\n",
       "      <th>to</th>\n",
       "      <th>from_</th>\n",
       "    </tr>\n",
       "  </thead>\n",
       "  <tbody>\n",
       "    <tr>\n",
       "      <th>0</th>\n",
       "      <td>&gt;&gt;&gt;&gt;Does anyone know if all the Patrick divisi...</td>\n",
       "      <td></td>\n",
       "      <td>hammerl@acsu.buffalo.edu (Valerie S. Hammerl)</td>\n",
       "    </tr>\n",
       "    <tr>\n",
       "      <th>1</th>\n",
       "      <td>&gt;\\tWhile we're on the subject, has anyone else...</td>\n",
       "      <td></td>\n",
       "      <td>lusky@ccwf.cc.utexas.edu (Jonathan R. Lusky)</td>\n",
       "    </tr>\n",
       "    <tr>\n",
       "      <th>2</th>\n",
       "      <td>|&gt;|&gt; &gt;Swatikas were also common in American In...</td>\n",
       "      <td></td>\n",
       "      <td>hays@ssd.intel.com (Kirk Hays)</td>\n",
       "    </tr>\n",
       "    <tr>\n",
       "      <th>3</th>\n",
       "      <td>Hi!...I am searching for packages that could h...</td>\n",
       "      <td></td>\n",
       "      <td>stjohn@math1.kaist.ac.kr (Ryou Seong Joon)</td>\n",
       "    </tr>\n",
       "    <tr>\n",
       "      <th>4</th>\n",
       "      <td>Here are the standings after game 1 of each of...</td>\n",
       "      <td></td>\n",
       "      <td>andrew@idacom.hp.com (Andrew Scott)</td>\n",
       "    </tr>\n",
       "  </tbody>\n",
       "</table>\n",
       "</div>"
      ],
      "text/plain": [
       "                                                body to  \\\n",
       "0  >>>>Does anyone know if all the Patrick divisi...      \n",
       "1  >\\tWhile we're on the subject, has anyone else...      \n",
       "2  |>|> >Swatikas were also common in American In...      \n",
       "3  Hi!...I am searching for packages that could h...      \n",
       "4  Here are the standings after game 1 of each of...      \n",
       "\n",
       "                                           from_  \n",
       "0  hammerl@acsu.buffalo.edu (Valerie S. Hammerl)  \n",
       "1   lusky@ccwf.cc.utexas.edu (Jonathan R. Lusky)  \n",
       "2                 hays@ssd.intel.com (Kirk Hays)  \n",
       "3     stjohn@math1.kaist.ac.kr (Ryou Seong Joon)  \n",
       "4            andrew@idacom.hp.com (Andrew Scott)  "
      ]
     },
     "execution_count": 15,
     "metadata": {},
     "output_type": "execute_result"
    }
   ],
   "source": [
    "email_df.head()"
   ]
  },
  {
   "cell_type": "code",
   "execution_count": 16,
   "metadata": {},
   "outputs": [],
   "source": [
    "# prep NLTK Stop words\n",
    "\n",
    "stop_words = stopwords.words('english')\n",
    "stop_words.extend(['from', 'subject', 're', 'edu', 'use','know','get','say','go',\n",
    "                    'well','run','also'])"
   ]
  },
  {
   "cell_type": "code",
   "execution_count": 17,
   "metadata": {},
   "outputs": [
    {
     "data": {
      "text/plain": [
       "'|>|> >Swatikas were also common in American Indian markings/painted walls etc.  Is|> >it the Swastika that is bad?|>|> Just want to back this up with a personal anecdote.  My grandparents|> have a Navajo rug made in the 1920\\'s, which they received in trade|> from the weaver while living in Flagstaff, Arizona.  The decorative motif|> consists of 4 large black swastikas, one in each corner.  What\\'s more, the|> color scheme is black, white, and red.  To the casual glance it would|> undoubtedly appear to be a Nazi relic of some kind.  Yet they owned it|> ten years before Hitler and the National Socialists came to power.|>|> As I recall, they took it down in the 30\\'s, and didn\\'t feel quite right|> about putting it back up until the 60\\'s.  It still draws comments from|> those who don\\'t know what it is.Having lived, played, and worked on and near the Navajo reservationfor a number of years, I can confirm this is an ancient pattern,found in petroglyphs dated 800 to 1200 years old.Also, the Indians never stopped making rugs with this pattern - theyjust stopped selling them after the Nazi\\'s pre-empted the swastika.Note also that the Indian versions use both clockwise andcounter-clockwise swastikas.They remember being \"relocated\" by the US Army, and don\\'t intend todo it again.  The Hopi, on the other hand, have a dislike forweapons, from my experience.  Perhaps they just hide them betterfrom strangers.--Kirk Hays - NRA Life, seventh generation.\"The only thing necessary for the triumph of evil is for good men todo nothing.\"  -- Edmund Burke (1729-1797)'"
      ]
     },
     "execution_count": 17,
     "metadata": {},
     "output_type": "execute_result"
    }
   ],
   "source": [
    "email_df.iloc[2]['body']"
   ]
  },
  {
   "cell_type": "code",
   "execution_count": 18,
   "metadata": {},
   "outputs": [],
   "source": [
    "# Convert email body to list\n",
    "data = email_df.body.values.tolist()"
   ]
  },
  {
   "cell_type": "code",
   "execution_count": 19,
   "metadata": {},
   "outputs": [],
   "source": [
    "# tokenize - break down each sentence into a list of words\n",
    "def sent_to_words(sentences):\n",
    "    for sentence in sentences:\n",
    "        yield(gensim.utils.simple_preprocess(str(sentence), deacc=True))  # deacc=True removes punctuations"
   ]
  },
  {
   "cell_type": "code",
   "execution_count": 20,
   "metadata": {},
   "outputs": [],
   "source": [
    "data_words = list(sent_to_words(data))"
   ]
  },
  {
   "cell_type": "code",
   "execution_count": 21,
   "metadata": {},
   "outputs": [
    {
     "data": {
      "text/plain": [
       "['hi',\n",
       " 'am',\n",
       " 'searching',\n",
       " 'for',\n",
       " 'packages',\n",
       " 'that',\n",
       " 'could',\n",
       " 'handle',\n",
       " 'multi',\n",
       " 'page',\n",
       " 'giffiles',\n",
       " 'are',\n",
       " 'there',\n",
       " 'any',\n",
       " 'on',\n",
       " 'some',\n",
       " 'ftp',\n",
       " 'servers',\n",
       " 'll',\n",
       " 'appreciate',\n",
       " 'one',\n",
       " 'which',\n",
       " 'works',\n",
       " 'on',\n",
       " 'pc',\n",
       " 'either',\n",
       " 'on',\n",
       " 'dos',\n",
       " 'or',\n",
       " 'windows',\n",
       " 'but',\n",
       " 'any',\n",
       " 'package',\n",
       " 'works',\n",
       " 'on',\n",
       " 'unix',\n",
       " 'will',\n",
       " 'be',\n",
       " 'ok',\n",
       " 'thanks',\n",
       " 'in',\n",
       " 'advance']"
      ]
     },
     "execution_count": 21,
     "metadata": {},
     "output_type": "execute_result"
    }
   ],
   "source": [
    "data_words[3]"
   ]
  },
  {
   "cell_type": "code",
   "execution_count": 22,
   "metadata": {},
   "outputs": [],
   "source": [
    "# Build the bigram and trigram models\n",
    "bigram = Phrases(data_words, min_count=5, threshold=100) # higher threshold fewer phrases.\n",
    "trigram = Phrases(bigram[data_words], threshold=100)"
   ]
  },
  {
   "cell_type": "code",
   "execution_count": 23,
   "metadata": {},
   "outputs": [],
   "source": [
    "# Faster way to get a sentence clubbed as a trigram/bigram\n",
    "bigram_mod = Phraser(bigram)\n",
    "trigram_mod = Phraser(trigram)"
   ]
  },
  {
   "cell_type": "code",
   "execution_count": 24,
   "metadata": {},
   "outputs": [
    {
     "data": {
      "text/plain": [
       "['on',\n",
       " 'two',\n",
       " 'separate',\n",
       " 'occasions',\n",
       " 'saw',\n",
       " 'dick',\n",
       " 'allen',\n",
       " 'back',\n",
       " 'when',\n",
       " 'he',\n",
       " 'was',\n",
       " 'richie',\n",
       " 'homer',\n",
       " 'at',\n",
       " 'shea',\n",
       " 'off',\n",
       " 'the',\n",
       " 'middle',\n",
       " 'of',\n",
       " 'the',\n",
       " 'black',\n",
       " 'centerfield',\n",
       " 'hitter',\n",
       " 'sbackground',\n",
       " 'screen',\n",
       " 'think',\n",
       " 'both',\n",
       " 'shots',\n",
       " 'would',\n",
       " 'have',\n",
       " 'traveled',\n",
       " 'feet',\n",
       " 'jay']"
      ]
     },
     "execution_count": 24,
     "metadata": {},
     "output_type": "execute_result"
    }
   ],
   "source": [
    "# See trigram example\n",
    "trigram_mod[bigram_mod[data_words[200]]]"
   ]
  },
  {
   "cell_type": "code",
   "execution_count": 25,
   "metadata": {},
   "outputs": [],
   "source": [
    "# remove stop_words, make bigrams and lemmatize\n",
    "def remove_stopwords(texts):\n",
    "    return [[word for word in simple_preprocess(str(doc)) if word not in stop_words] for doc in texts]\n",
    "\n",
    "def make_bigrams(texts):\n",
    "    return [bigram_mod[doc] for doc in texts]\n",
    "\n",
    "def make_trigrams(texts):\n",
    "    return [trigram_mod[bigram_mod[doc]] for doc in texts]\n",
    "\n",
    "def lemmatization(texts, allowed_postags=['NOUN', 'ADJ', 'VERB']):\n",
    "    texts_out = []\n",
    "    for sent in texts:\n",
    "        doc = nlp(\" \".join(sent))\n",
    "        texts_out.append([token.lemma_ for token in doc if token.pos_ in allowed_postags])\n",
    "    return texts_out"
   ]
  },
  {
   "cell_type": "code",
   "execution_count": 26,
   "metadata": {},
   "outputs": [],
   "source": [
    "# Remove Stop Words\n",
    "data_words_nostops = remove_stopwords(data_words)"
   ]
  },
  {
   "cell_type": "code",
   "execution_count": 27,
   "metadata": {},
   "outputs": [],
   "source": [
    "# Form Bigrams\n",
    "data_words_bigrams = make_bigrams(data_words_nostops)"
   ]
  },
  {
   "cell_type": "code",
   "execution_count": 28,
   "metadata": {},
   "outputs": [],
   "source": [
    "# Initialize spacy 'en' model, keeping only tagger component (for efficiency)\n",
    "nlp = spacy.load('en_core_web_sm', disable=['parser', 'ner'])"
   ]
  },
  {
   "cell_type": "code",
   "execution_count": 29,
   "metadata": {},
   "outputs": [],
   "source": [
    "# Do lemmatization keeping only noun, adj, vb, adv\n",
    "data_lemmatized = lemmatization(data_words_bigrams, allowed_postags=['NOUN', 'ADJ', 'VERB'])"
   ]
  },
  {
   "cell_type": "code",
   "execution_count": 30,
   "metadata": {},
   "outputs": [
    {
     "data": {
      "text/plain": [
       "['separate',\n",
       " 'occasion',\n",
       " 'see',\n",
       " 'homer',\n",
       " 'hitter',\n",
       " 'sbackground',\n",
       " 'think',\n",
       " 'shot',\n",
       " 'travel',\n",
       " 'foot']"
      ]
     },
     "execution_count": 30,
     "metadata": {},
     "output_type": "execute_result"
    }
   ],
   "source": [
    "data_lemmatized[200]"
   ]
  },
  {
   "cell_type": "code",
   "execution_count": 31,
   "metadata": {},
   "outputs": [],
   "source": [
    "# create dictionary and corpus both are needed for (LDA) topic modeling\n",
    "\n",
    "# Create Dictionary\n",
    "id2word = corpora.Dictionary(data_lemmatized)\n",
    "\n",
    "# Create Corpus\n",
    "texts = data_lemmatized\n",
    "\n",
    "# Term Document Frequency\n",
    "corpus = [id2word.doc2bow(text) for text in texts]"
   ]
  },
  {
   "cell_type": "code",
   "execution_count": 32,
   "metadata": {},
   "outputs": [],
   "source": [
    "with open ('id2word.pkl', 'wb') as f:\n",
    "    pickle.dump(id2word,f)\n",
    "f.close()"
   ]
  },
  {
   "cell_type": "code",
   "execution_count": 33,
   "metadata": {},
   "outputs": [],
   "source": [
    "# Build LDA model\n",
    "lda_model = gensim.models.ldamodel.LdaModel(corpus=corpus,\n",
    "                                           id2word=id2word,\n",
    "                                           num_topics=10,\n",
    "                                           random_state=100,\n",
    "                                           update_every=1,\n",
    "                                           chunksize=100,\n",
    "                                           passes=10,\n",
    "                                           alpha='auto',\n",
    "                                           per_word_topics=True)"
   ]
  },
  {
   "cell_type": "code",
   "execution_count": 34,
   "metadata": {},
   "outputs": [
    {
     "data": {
      "text/plain": [
       "[(0,\n",
       "  '0.044*\"cable\" + 0.030*\"ram\" + 0.030*\"instal\" + 0.023*\"spare\" + 0.023*\"connector\" + 0.021*\"hook\" + 0.017*\"slot\" + 0.016*\"motherboard\" + 0.015*\"task\" + 0.015*\"simms\"'),\n",
       " (1,\n",
       "  '0.028*\"believe\" + 0.026*\"claim\" + 0.022*\"true\" + 0.016*\"question\" + 0.015*\"word\" + 0.015*\"fact\" + 0.015*\"state\" + 0.014*\"people\" + 0.014*\"mean\" + 0.013*\"law\"'),\n",
       " (2,\n",
       "  '0.033*\"smoke\" + 0.028*\"tear_gas\" + 0.019*\"skin\" + 0.017*\"leafs\" + 0.016*\"rich\" + 0.016*\"mirror\" + 0.013*\"extract\" + 0.011*\"closely\" + 0.008*\"goalie\" + 0.006*\"harmful\"'),\n",
       " (3,\n",
       "  '0.048*\"system\" + 0.031*\"use\" + 0.027*\"drive\" + 0.025*\"bit\" + 0.022*\"driver\" + 0.018*\"card\" + 0.018*\"datum\" + 0.016*\"key\" + 0.015*\"memory\" + 0.014*\"computer\"'),\n",
       " (4,\n",
       "  '0.046*\"oil\" + 0.014*\"angel\" + 0.011*\"officially\" + 0.009*\"standard_disclaimer\" + 0.009*\"election\" + 0.006*\"corporate\" + 0.004*\"bolt\" + 0.002*\"clever\" + 0.000*\"brake\" + 0.000*\"export\"'),\n",
       " (5,\n",
       "  '0.056*\"apr\" + 0.013*\"penguin\" + 0.008*\"temp\" + 0.007*\"earn\" + 0.007*\"baerga\" + 0.007*\"unfair\" + 0.006*\"humanitarian\" + 0.006*\"ryan\" + 0.006*\"baud\" + 0.005*\"autre\"'),\n",
       " (6,\n",
       "  '0.644*\"ax\" + 0.033*\"user\" + 0.021*\"local\" + 0.012*\"brain\" + 0.008*\"kit\" + 0.006*\"dm\" + 0.004*\"combination\" + 0.004*\"orient\" + 0.004*\"meg\" + 0.003*\"mac\"'),\n",
       " (7,\n",
       "  '0.085*\"file\" + 0.079*\"image\" + 0.078*\"window\" + 0.040*\"_\" + 0.039*\"display\" + 0.034*\"do\" + 0.031*\"color\" + 0.026*\"format\" + 0.025*\"screen\" + 0.022*\"program\"'),\n",
       " (8,\n",
       "  '0.020*\"think\" + 0.019*\"see\" + 0.019*\"time\" + 0.017*\"make\" + 0.016*\"good\" + 0.015*\"take\" + 0.013*\"people\" + 0.013*\"go\" + 0.012*\"want\" + 0.012*\"say\"'),\n",
       " (9,\n",
       "  '0.032*\"mit\" + 0.028*\"frame\" + 0.027*\"nature\" + 0.024*\"united_state\" + 0.021*\"violation\" + 0.017*\"buffer\" + 0.013*\"democracy\" + 0.011*\"constitutional\" + 0.011*\"propaganda\" + 0.010*\"null\"'),\n",
       " (10,\n",
       "  '0.088*\"game\" + 0.066*\"team\" + 0.061*\"play\" + 0.047*\"player\" + 0.040*\"win\" + 0.026*\"season\" + 0.022*\"score\" + 0.021*\"fan\" + 0.021*\"year\" + 0.016*\"baseball\"'),\n",
       " (11,\n",
       "  '0.040*\"controller\" + 0.035*\"utility\" + 0.024*\"environment\" + 0.021*\"experiment\" + 0.008*\"andi\" + 0.007*\"refresh\" + 0.006*\"invoke\" + 0.006*\"alaska\" + 0.005*\"erase\" + 0.005*\"atmospheric\"'),\n",
       " (12,\n",
       "  '0.022*\"year\" + 0.020*\"car\" + 0.017*\"gun\" + 0.016*\"government\" + 0.014*\"power\" + 0.013*\"old\" + 0.012*\"cover\" + 0.011*\"move\" + 0.011*\"high\" + 0.010*\"second\"'),\n",
       " (13,\n",
       "  '0.039*\"owner\" + 0.036*\"career\" + 0.029*\"technical\" + 0.029*\"division\" + 0.024*\"fax\" + 0.021*\"production\" + 0.020*\"instrument\" + 0.018*\"repair\" + 0.018*\"hmmm\" + 0.014*\"winner\"'),\n",
       " (14,\n",
       "  '0.035*\"fire\" + 0.031*\"man\" + 0.028*\"people\" + 0.025*\"kill\" + 0.024*\"life\" + 0.021*\"child\" + 0.019*\"tank\" + 0.017*\"drug\" + 0.015*\"say\" + 0.015*\"war\"'),\n",
       " (15,\n",
       "  '0.054*\"close\" + 0.024*\"range\" + 0.023*\"objective\" + 0.022*\"parent\" + 0.021*\"wife\" + 0.020*\"motorcycle\" + 0.020*\"input\" + 0.020*\"dod\" + 0.017*\"incline\" + 0.015*\"wear\"'),\n",
       " (16,\n",
       "  '0.054*\"server\" + 0.053*\"application\" + 0.051*\"speed\" + 0.036*\"vga\" + 0.033*\"contain\" + 0.032*\"sun\" + 0.025*\"scientific\" + 0.018*\"plot\" + 0.017*\"implement\" + 0.015*\"fast\"'),\n",
       " (17,\n",
       "  '0.062*\"mile\" + 0.020*\"engage\" + 0.018*\"koresh\" + 0.014*\"batf\" + 0.013*\"atf\" + 0.010*\"human_being\" + 0.000*\"burn\" + 0.000*\"cult\" + 0.000*\"mph\" + 0.000*\"brake\"'),\n",
       " (18,\n",
       "  '0.018*\"include\" + 0.016*\"number\" + 0.016*\"use\" + 0.014*\"support\" + 0.014*\"information\" + 0.014*\"send\" + 0.013*\"post\" + 0.013*\"line\" + 0.013*\"com\" + 0.012*\"mail\"'),\n",
       " (19,\n",
       "  '0.072*\"pay\" + 0.048*\"religion\" + 0.033*\"atheist\" + 0.030*\"peace\" + 0.030*\"flame\" + 0.027*\"step\" + 0.021*\"religious\" + 0.021*\"christianity\" + 0.020*\"sin\" + 0.019*\"atheism\"')]"
      ]
     },
     "execution_count": 34,
     "metadata": {},
     "output_type": "execute_result"
    }
   ],
   "source": [
    "lda_model.print_topics()# The weights reflect how important a keyword is to that topic."
   ]
  },
  {
   "cell_type": "code",
   "execution_count": 35,
   "metadata": {},
   "outputs": [],
   "source": [
    "doc_lda = lda_model[corpus]"
   ]
  },
  {
   "cell_type": "code",
   "execution_count": 36,
   "metadata": {},
   "outputs": [
    {
     "name": "stdout",
     "output_type": "stream",
     "text": [
      "\n",
      "Perplexity:  -15.543145384551773\n"
     ]
    }
   ],
   "source": [
    "# Model perplexity and topic coherence provide a convenient\n",
    "# measure to judge how good a given topic model is.\n",
    "# Compute Perplexity\n",
    "print('\\nPerplexity: ', lda_model.log_perplexity(corpus))  # a measure of how good the model is. lower the better."
   ]
  },
  {
   "cell_type": "code",
   "execution_count": 37,
   "metadata": {},
   "outputs": [
    {
     "name": "stdout",
     "output_type": "stream",
     "text": [
      "\n",
      "Coherence Score:  0.4876290346147165\n"
     ]
    }
   ],
   "source": [
    "# Compute Coherence Score\n",
    "coherence_model_lda = CoherenceModel(model=lda_model, texts=data_lemmatized, dictionary=id2word, coherence='c_v')\n",
    "coherence_lda = coherence_model_lda.get_coherence()\n",
    "print('\\nCoherence Score: ', coherence_lda)"
   ]
  },
  {
   "cell_type": "code",
   "execution_count": 38,
   "metadata": {},
   "outputs": [
    {
     "name": "stderr",
     "output_type": "stream",
     "text": [
      "/home/cr/anaconda3/envs/nlp/lib/python3.8/site-packages/pyLDAvis/_prepare.py:247: FutureWarning: In a future version of pandas all arguments of DataFrame.drop except for the argument 'labels' will be keyword-only.\n",
      "  default_term_info = default_term_info.sort_values(\n",
      "/home/cr/anaconda3/envs/nlp/lib/python3.8/site-packages/past/builtins/misc.py:45: DeprecationWarning: the imp module is deprecated in favour of importlib; see the module's documentation for alternative uses\n",
      "  from imp import reload\n",
      "/home/cr/anaconda3/envs/nlp/lib/python3.8/site-packages/past/builtins/misc.py:45: DeprecationWarning: the imp module is deprecated in favour of importlib; see the module's documentation for alternative uses\n",
      "  from imp import reload\n",
      "/home/cr/anaconda3/envs/nlp/lib/python3.8/site-packages/past/builtins/misc.py:45: DeprecationWarning: the imp module is deprecated in favour of importlib; see the module's documentation for alternative uses\n",
      "  from imp import reload\n",
      "/home/cr/anaconda3/envs/nlp/lib/python3.8/site-packages/past/builtins/misc.py:45: DeprecationWarning: the imp module is deprecated in favour of importlib; see the module's documentation for alternative uses\n",
      "  from imp import reload\n",
      "/home/cr/anaconda3/envs/nlp/lib/python3.8/site-packages/past/builtins/misc.py:45: DeprecationWarning: the imp module is deprecated in favour of importlib; see the module's documentation for alternative uses\n",
      "  from imp import reload\n",
      "/home/cr/anaconda3/envs/nlp/lib/python3.8/site-packages/past/builtins/misc.py:45: DeprecationWarning: the imp module is deprecated in favour of importlib; see the module's documentation for alternative uses\n",
      "  from imp import reload\n",
      "/home/cr/anaconda3/envs/nlp/lib/python3.8/site-packages/past/builtins/misc.py:45: DeprecationWarning: the imp module is deprecated in favour of importlib; see the module's documentation for alternative uses\n",
      "  from imp import reload\n",
      "/home/cr/anaconda3/envs/nlp/lib/python3.8/site-packages/past/builtins/misc.py:45: DeprecationWarning: the imp module is deprecated in favour of importlib; see the module's documentation for alternative uses\n",
      "  from imp import reload\n"
     ]
    }
   ],
   "source": [
    "# Visualize the topics\n",
    "pyLDAvis.enable_notebook(sort=True)\n",
    "vis = pyLDAvis.gensim.prepare(lda_model, corpus, id2word)"
   ]
  },
  {
   "cell_type": "code",
   "execution_count": 39,
   "metadata": {},
   "outputs": [
    {
     "data": {
      "text/html": [
       "\n",
       "<link rel=\"stylesheet\" type=\"text/css\" href=\"https://cdn.jsdelivr.net/gh/bmabey/pyLDAvis@3.2.2/pyLDAvis/js/ldavis.v1.0.0.css\">\n",
       "\n",
       "\n",
       "<div id=\"ldavis_el386271407117308783841718425597\"></div>\n",
       "<script type=\"text/javascript\">\n",
       "\n",
       "var ldavis_el386271407117308783841718425597_data = {\"mdsDat\": {\"x\": [0.38404453818639306, 0.31440679418189243, 0.25973116250790823, 0.27990470266089945, 0.19815779188010102, 0.153868428859337, -0.030339463547163173, -0.0023295470084922876, -0.05254859798583474, -0.10173639736590218, -0.11062376317049918, -0.1089958780375164, -0.14019077522831, -0.1393271479049358, -0.14620288080577803, -0.1498306704761648, -0.15104547243815553, -0.15178394325865935, -0.15206624333694443, -0.15309263771217502], \"y\": [-0.13440958030006228, 0.0009470914377071849, 0.16188600403195927, -0.18067066220677816, 0.3234522713495314, -0.13708200004742738, -0.005190402308876236, 0.08198475259502809, 0.026990851537483332, -0.013295815399166877, -0.012942760599411383, -0.02542449304281749, -0.012267702731500612, -0.010554802044035059, -0.011533797919035511, -0.010846155566534335, -0.010544366140779788, -0.010343478132129378, -0.010247975132748903, -0.009906979380407573], \"topics\": [1, 2, 3, 4, 5, 6, 7, 8, 9, 10, 11, 12, 13, 14, 15, 16, 17, 18, 19, 20], \"cluster\": [1, 1, 1, 1, 1, 1, 1, 1, 1, 1, 1, 1, 1, 1, 1, 1, 1, 1, 1, 1], \"Freq\": [34.603786210895024, 15.26822318408238, 11.707616731255053, 10.200993334042124, 8.058968434576617, 5.716489458677045, 5.342167475425607, 2.224229319773142, 1.7237285406256342, 1.130914369390552, 1.1000540394428446, 0.9647039620724501, 0.46242441366107623, 0.42697823201117874, 0.354954607253423, 0.19732012119662734, 0.1799433960774839, 0.1237102129573263, 0.110283654172589, 0.10251030241183472]}, \"tinfo\": {\"Term\": [\"ax\", \"system\", \"people\", \"use\", \"year\", \"think\", \"file\", \"see\", \"do\", \"believe\", \"time\", \"image\", \"window\", \"say\", \"game\", \"claim\", \"good\", \"program\", \"fire\", \"drive\", \"play\", \"user\", \"include\", \"true\", \"man\", \"bit\", \"car\", \"make\", \"team\", \"go\", \"think\", \"see\", \"good\", \"go\", \"want\", \"thing\", \"get\", \"much\", \"try\", \"time\", \"seem\", \"tell\", \"let\", \"hear\", \"never\", \"well\", \"really\", \"happen\", \"probably\", \"sure\", \"lot\", \"enough\", \"bad\", \"actually\", \"idea\", \"course\", \"feel\", \"remember\", \"quite\", \"always\", \"come\", \"still\", \"start\", \"take\", \"way\", \"make\", \"look\", \"even\", \"put\", \"day\", \"give\", \"say\", \"point\", \"problem\", \"find\", \"people\", \"work\", \"include\", \"information\", \"send\", \"mail\", \"space\", \"list\", \"address\", \"source\", \"interested\", \"company\", \"code\", \"object\", \"current\", \"return\", \"info\", \"email\", \"research\", \"tool\", \"business\", \"contact\", \"detail\", \"define\", \"date\", \"reference\", \"university\", \"request\", \"process\", \"connect\", \"complete\", \"paper\", \"line\", \"support\", \"option\", \"message\", \"provide\", \"available\", \"com\", \"number\", \"book\", \"type\", \"program\", \"note\", \"base\", \"group\", \"write\", \"post\", \"new\", \"use\", \"free\", \"name\", \"read\", \"call\", \"car\", \"gun\", \"power\", \"cover\", \"move\", \"black\", \"carry\", \"money\", \"cut\", \"rate\", \"crime\", \"army\", \"technology\", \"light\", \"road\", \"city\", \"drop\", \"risk\", \"center\", \"launch\", \"weapon\", \"policy\", \"bike\", \"manage\", \"site\", \"military\", \"firearm\", \"bill\", \"police\", \"criminal\", \"face\", \"old\", \"small\", \"government\", \"plan\", \"year\", \"side\", \"second\", \"high\", \"wait\", \"area\", \"difference\", \"today\", \"control\", \"large\", \"right\", \"cost\", \"state\", \"public\", \"leave\", \"claim\", \"law\", \"israeli\", \"evidence\", \"statement\", \"truth\", \"accept\", \"often\", \"argument\", \"action\", \"sense\", \"belief\", \"prove\", \"ship\", \"shoot\", \"faith\", \"indeed\", \"press\", \"act\", \"political\", \"command\", \"jewish\", \"reality\", \"imply\", \"mhz\", \"clearly\", \"existence\", \"therefore\", \"quote\", \"deny\", \"true\", \"word\", \"exist\", \"believe\", \"christian\", \"human\", \"page\", \"fact\", \"state\", \"person\", \"question\", \"mean\", \"reason\", \"follow\", \"people\", \"answer\", \"right\", \"issue\", \"system\", \"bit\", \"driver\", \"card\", \"datum\", \"key\", \"memory\", \"computer\", \"price\", \"machine\", \"chip\", \"graphic\", \"secret\", \"phone\", \"mode\", \"device\", \"video\", \"increase\", \"service\", \"access\", \"monitor\", \"model\", \"tape\", \"product\", \"hardware\", \"engine\", \"board\", \"sale\", \"amount\", \"apple\", \"disk\", \"drive\", \"software\", \"design\", \"use\", \"buy\", \"sell\", \"need\", \"fire\", \"man\", \"child\", \"tank\", \"drug\", \"war\", \"dead\", \"death\", \"study\", \"away\", \"body\", \"die\", \"history\", \"earth\", \"discussion\", \"choose\", \"church\", \"lie\", \"family\", \"heart\", \"murder\", \"cop\", \"son\", \"discuss\", \"father\", \"bible\", \"night\", \"inthe\", \"dealer\", \"blood\", \"kill\", \"life\", \"live\", \"people\", \"say\", \"world\", \"begin\", \"ax\", \"user\", \"local\", \"brain\", \"kit\", \"dm\", \"combination\", \"orient\", \"meg\", \"mac\", \"tonight\", \"hat\", \"dual\", \"frequent\", \"quit\", \"domain\", \"employee\", \"dedicated\", \"behave\", \"insane\", \"piss\", \"whenyou\", \"cone\", \"isto\", \"revision\", \"fabrication\", \"andrew_cmu\", \"reusable\", \"theti_dseg\", \"sarcasm\", \"file\", \"image\", \"window\", \"_\", \"display\", \"color\", \"format\", \"screen\", \"motif\", \"documentation\", \"byte\", \"usenet\", \"select\", \"m\", \"obscure\", \"unix\", \"patch\", \"wrap\", \"regional\", \"pit\", \"editor\", \"maximum\", \"rot\", \"scan\", \"storage\", \"ms_window\", \"custom\", \"configure\", \"ms_do\", \"width\", \"character\", \"convert\", \"do\", \"program\", \"install\", \"size\", \"version\", \"set\", \"package\", \"error\", \"game\", \"team\", \"player\", \"season\", \"score\", \"fan\", \"baseball\", \"defense\", \"hockey\", \"star\", \"moon\", \"lunar\", \"stat\", \"solar\", \"ss\", \"shuttle\", \"ranger\", \"ice\", \"coach\", \"giant\", \"defensive\", \"nhl\", \"calculate\", \"initially\", \"talent\", \"hab\", \"pt\", \"immediate\", \"out\", \"standing\", \"win\", \"play\", \"goal\", \"king\", \"finish\", \"hit\", \"year\", \"record\", \"final\", \"lose\", \"pay\", \"religion\", \"atheist\", \"peace\", \"flame\", \"step\", \"christianity\", \"sin\", \"atheism\", \"punishment\", \"knock\", \"condemn\", \"principle\", \"sea\", \"blame\", \"defend\", \"weeks_ago\", \"compel\", \"perspective\", \"muslim\", \"abortion\", \"instruction\", \"teaching\", \"going\", \"speech\", \"coverage\", \"rational\", \"pray\", \"apology\", \"ignorance\", \"religious\", \"difficult\", \"hell\", \"range\", \"objective\", \"parent\", \"wife\", \"motorcycle\", \"input\", \"dod\", \"incline\", \"wear\", \"affair\", \"tour\", \"aid\", \"battle\", \"estimate\", \"visit\", \"gear\", \"flyer\", \"evening\", \"girl\", \"joke\", \"hurt\", \"rider\", \"camp\", \"promote\", \"san_jose\", \"cry\", \"captain\", \"southern\", \"husband\", \"drag\", \"close\", \"server\", \"application\", \"speed\", \"vga\", \"sun\", \"scientific\", \"plot\", \"implement\", \"processor\", \"sheet\", \"programming\", \"brand\", \"module\", \"announcement\", \"traditional\", \"restriction\", \"ftp_site\", \"parameter\", \"deliver\", \"clipper_chip\", \"gravity\", \"spin\", \"protocol\", \"widespread\", \"specification\", \"equation\", \"prospect\", \"makes_sense\", \"researcher\", \"minimal\", \"enable\", \"contain\", \"fast\", \"difficult\", \"run\", \"owner\", \"career\", \"technical\", \"division\", \"fax\", \"production\", \"instrument\", \"repair\", \"hmmm\", \"winner\", \"offense\", \"los_angele\", \"capital\", \"scoring\", \"sweep\", \"defeat\", \"clue\", \"grasp\", \"espn\", \"pose\", \"tiger\", \"islander\", \"bruin\", \"ttl\", \"rs\", \"ct\", \"new_jersey\", \"frank\", \"scrap\", \"winnipeg\", \"cable\", \"ram\", \"instal\", \"spare\", \"connector\", \"hook\", \"slot\", \"motherboard\", \"task\", \"simms\", \"cd\", \"insert\", \"click\", \"warranty\", \"tower\", \"hard_drive\", \"cloud\", \"north\", \"vram\", \"mount\", \"micro\", \"power_supply\", \"cord\", \"disconnect\", \"simultaneously\", \"collector\", \"recorder\", \"unplug\", \"reinstall\", \"tab\", \"install\", \"plug\", \"mit\", \"frame\", \"nature\", \"united_state\", \"violation\", \"buffer\", \"democracy\", \"constitutional\", \"propaganda\", \"null\", \"humanity\", \"offender\", \"focus\", \"civil_libertie\", \"separation\", \"democratic\", \"inquiry\", \"toxic\", \"biased\", \"broad\", \"boulder\", \"guidance\", \"idaho\", \"creative\", \"thatis\", \"concentration\", \"rkba\", \"fundamentally\", \"boise\", \"monophysitism\", \"house\", \"armenian\", \"smoke\", \"tear_gas\", \"skin\", \"leafs\", \"rich\", \"mirror\", \"extract\", \"closely\", \"goalie\", \"harmful\", \"arrangement\", \"dish\", \"forth\", \"sigh\", \"todd\", \"roster\", \"golf\", \"defenseman\", \"oily\", \"meat\", \"fat\", \"hot\", \"catalyze\", \"liquifie\", \"carcinogen\", \"drip\", \"vague\", \"extreme\", \"nose\", \"cleanser\", \"catcher\", \"cap\", \"hole\", \"young\", \"controller\", \"utility\", \"environment\", \"experiment\", \"andi\", \"refresh\", \"invoke\", \"alaska\", \"erase\", \"atmospheric\", \"vacuum\", \"upcoming\", \"wayne\", \"ide\", \"radar\", \"satellite\", \"unhappy\", \"water\", \"gateway\", \"tracking\", \"probe\", \"magellan\", \"optical\", \"atmosphere\", \"mu_radar\", \"harddisk\", \"ide_controller\", \"wire\", \"hdd_fdd\", \"vl_bus\", \"flyby\", \"phase\", \"antenna\", \"adaptec\", \"mission\", \"scsi\", \"apr\", \"penguin\", \"temp\", \"earn\", \"baerga\", \"unfair\", \"humanitarian\", \"ryan\", \"baud\", \"autre\", \"existent\", \"comme_aucun\", \"au_moin\", \"ends_rousseau\", \"ne_vaux\", \"pas_mieux\", \"si_je\", \"ceux_qui\", \"croire__etre\", \"fait_comme\", \"terribly\", \"correlate\", \"lean\", \"domicile\", \"rickey\", \"unbiased\", \"pitch\", \"residence\", \"toyour\", \"ireally\", \"ball\", \"annual\", \"armenian\", \"mile\", \"engage\", \"koresh\", \"batf\", \"atf\", \"human_being\", \"camshaft\", \"crankshaft\", \"acura\", \"cult\", \"diesel\", \"idbsu\", \"bds\", \"clutch\", \"alice\", \"gasoline\", \"documentary\", \"ist\", \"mph\", \"investigation\", \"roby_chopin\", \"scott_roby\", \"strut\", \"udel\", \"contaminating\", \"donelast\", \"inexactly\", \"prelude\", \"underrated\", \"wiper\", \"gazan\", \"unevenly\", \"mpg\", \"burn\", \"ammunition\", \"brake\", \"fuel\", \"wind\", \"cash\", \"house\", \"economy\", \"agent\", \"island\", \"armenian\", \"hole\", \"none\", \"performance\", \"oil\", \"angel\", \"officially\", \"standard_disclaimer\", \"election\", \"corporate\", \"bolt\", \"clever\", \"brake\", \"fluid\", \"export\", \"ab\", \"dot_fluid\", \"additive\", \"wheel\", \"theology\", \"valve\", \"designation\", \"pedal\", \"dot\", \"interval\", \"gasoline\", \"silicone\", \"import\", \"lucifer\", \"threshold\", \"trx\", \"braking\", \"six_month\", \"abs_equippe\", \"route\", \"weight\", \"energy\", \"manual\", \"water\", \"island\", \"occur\", \"letter\"], \"Freq\": [36547.0, 4093.0, 8181.0, 6168.0, 3519.0, 7487.0, 2012.0, 7104.0, 2456.0, 3610.0, 6924.0, 1871.0, 1832.0, 5561.0, 1610.0, 2775.0, 6027.0, 2488.0, 2135.0, 2639.0, 1390.0, 1855.0, 2898.0, 2464.0, 1873.0, 2114.0, 2485.0, 6582.0, 1211.0, 4730.0, 7486.456872685014, 7103.539867556964, 6026.3042953874265, 4729.235431349182, 4568.755688096677, 4194.3638454148195, 4031.7922371344866, 3659.739930826351, 3556.727807833804, 6922.923143950734, 3412.4496704002518, 3169.645887462288, 2776.959205583673, 2702.78317688191, 2646.856831827654, 2557.4909210714172, 2553.4354738261377, 2193.3425463197723, 2083.2146613576706, 2021.824836931473, 1946.0953889179586, 1787.7908089981486, 1733.2919950577307, 1713.2725217583088, 1618.8503867921304, 1593.7204684149153, 1582.5954410118156, 1448.6385964134354, 1418.8130140453022, 1329.489607660236, 4416.913996163493, 2712.0585372031687, 2405.91246546512, 5334.926312447197, 4516.109106894308, 6380.6303119143795, 4264.30602824301, 4038.7499546816607, 2010.8968519251075, 2901.048365364363, 3537.3406832676505, 4524.963357510046, 2842.654543213506, 3254.346751058349, 3422.397916822857, 4955.19824694129, 3330.679812455609, 2897.2138681462907, 2272.505451320014, 2193.3183636341023, 1975.2866723583636, 1661.5936331375992, 1558.1015588904722, 1159.48830790645, 1107.825287349312, 1026.0443093106323, 912.1516177432932, 861.8810868835344, 848.9835576540605, 840.4296815887872, 828.1549275467164, 810.034599714596, 792.3304112890849, 761.2245566670795, 756.3668045478876, 747.8157208580303, 741.896186854256, 688.6599268937487, 682.0690152764095, 665.2832919539879, 646.532717443486, 640.4965828986869, 616.277405279313, 600.4379198749307, 599.956763402889, 581.8207378927534, 581.0727208944567, 2147.1779069540125, 2295.6285838537533, 649.4349011361162, 1107.2822080656774, 1647.4284409388079, 1641.715693655039, 2143.1718293367408, 2621.3618930512393, 1274.7885076227308, 1184.4913128520925, 1973.0573002018093, 1193.2874463521166, 1595.1476261882524, 1569.8816096662526, 1920.2038220821294, 2176.1801217827956, 1915.9022054883826, 2581.77204721897, 1079.4029055022086, 1158.7757993577018, 1405.9664558335555, 1439.5178275632447, 2484.7797703840774, 2111.205822340153, 1710.155171358364, 1431.6812332400982, 1337.4513538222593, 1037.1261215453333, 1017.126314182841, 919.4521392366431, 889.7684552415348, 788.2512617556135, 762.2771485115193, 760.2021106278477, 757.0125001463706, 732.4614634730259, 703.3504012772574, 696.175875474654, 655.8910204415395, 654.2578764497082, 644.721509970353, 642.1174262565082, 635.1478174616323, 627.5789088836372, 615.5337702723991, 601.8734273113505, 552.7556712453462, 547.5065898598865, 543.9978852296919, 532.3414581521745, 511.589111741818, 476.0101720296249, 1178.0967544614268, 1613.657373970224, 1032.5111197005879, 2009.2105084594725, 926.8599382553292, 2760.910675514807, 1205.5110737409098, 1228.9370055104882, 1329.351200361198, 676.3224208691634, 866.9324483453742, 724.0137439152658, 871.2138885881595, 865.7810126767066, 1006.3199367880425, 1156.6383963328342, 771.3256145977228, 966.1501269431126, 782.3753924258739, 773.9163882545846, 2774.1945051965363, 1365.6442115022019, 1353.353074758178, 1306.2002924288001, 1291.5195233689406, 1010.4942854914165, 789.1785430167906, 770.1271852604352, 765.1069505739572, 764.1905685325156, 721.9257621631548, 709.8011715775376, 677.3610758733452, 670.7083056220079, 651.5900369506643, 624.9897968245331, 620.2461810375461, 576.5300582656973, 574.7937527965083, 549.6788643913403, 525.2473043357716, 493.25778582550026, 505.66111306375797, 485.5414496888252, 485.1968609977714, 464.4312324895214, 446.70483186439515, 429.04035030754727, 403.84768489682614, 373.3359294920654, 2346.123379913782, 1582.7010011249313, 1174.214856969534, 3026.8392288895393, 846.408653708466, 833.208345368248, 627.6492913988587, 1579.2626776184989, 1577.0473061332575, 999.2693870355145, 1716.0250582655112, 1525.5308430164669, 1205.7883378313, 969.7068640573609, 1550.3275137995627, 804.9213148584728, 999.0018442209503, 674.7056655372365, 4092.288183970356, 2113.1952038335216, 1845.2135128447785, 1535.868921227691, 1535.6632141329987, 1403.7404340003718, 1320.7642309626542, 1177.660210626851, 1177.2441755964546, 1077.397043016076, 979.8413695594548, 974.5881903562284, 897.8584879999032, 781.734920973918, 777.3158832429723, 763.5128734533763, 744.4009156897231, 742.444547208985, 705.6115844958669, 705.5166182461096, 703.1560855161947, 693.8027066118285, 612.4970969391784, 610.6037073346426, 609.5744548341272, 599.984855350457, 591.4198078566179, 574.2524274621559, 526.0789250354677, 518.2117042040649, 926.8703586220627, 2340.1221564875964, 1074.1362429856097, 952.3039455683844, 2658.618562737334, 1022.5161906867529, 800.6467485199619, 1144.421226515076, 2134.8448211824293, 1872.8109610144472, 1253.578335492714, 1145.8828449533924, 1027.9252858161617, 892.0945814866809, 854.5262780306172, 841.6799584557061, 774.6715721972812, 764.4520573614418, 749.6910445425979, 740.2838375101966, 732.7909846479268, 704.3055641332714, 662.992925201181, 630.9674611758135, 596.5159806140748, 536.3629319590783, 482.79079717761624, 478.72993630802785, 464.7329697882298, 454.6764081700899, 417.5861140054817, 410.2168817999547, 409.1133378573055, 399.6402939951418, 357.7155420831613, 349.2358714343576, 341.332428454801, 339.6388113293495, 1541.3969498598854, 1481.6223075671974, 883.4162135902851, 1675.5512733154835, 930.8986959240711, 566.3630516566719, 452.6434911940858, 36546.977850283896, 1854.4642095283946, 1165.3191650542462, 653.4570921665344, 442.0373040316795, 358.3098782190385, 253.9825181978509, 245.07403674211844, 221.84412705870898, 185.2314795145793, 161.59914381622065, 146.34414796744647, 115.9131099303114, 110.48997047846072, 101.62277465752962, 100.27969103558995, 93.26171404929791, 80.75856353532711, 79.23247377843958, 74.87500409639257, 66.99274198616365, 61.832446927541575, 51.6629448057722, 50.59108285089597, 45.439739394574936, 43.04993224074011, 41.94076204072797, 34.25267906463163, 33.818381120545716, 31.957319236844675, 2011.2328794152052, 1870.2905606591564, 1831.4455452030313, 944.104927552256, 913.5382715013699, 733.0068066954132, 623.6139364085387, 588.7303026531027, 347.5569659312684, 243.6425213157957, 242.035105122979, 195.11527665091367, 182.15991287965977, 178.98801279661956, 168.5275820066953, 145.0413476855389, 141.98957009625897, 118.07090139407813, 115.51205920020696, 114.08521154459679, 112.8001229439514, 110.10295188164787, 103.98054167134734, 95.52248226972253, 94.69033220998287, 88.96009016860748, 88.06589441112517, 82.06703138402354, 77.16288710211185, 74.16073727567597, 284.1096411993763, 224.50144280201798, 799.4263440808955, 514.8151920197795, 111.85524947870887, 245.60933750138415, 271.686077276711, 308.4336216217628, 227.9861165282017, 193.35391984326705, 1609.1559775931123, 1210.5496748013572, 866.990200056442, 474.0009928699757, 395.4424604686446, 387.80974581976784, 295.80018888620583, 269.21863763186025, 253.0283860696111, 238.52098657753683, 223.75008976316204, 172.24807860029884, 143.3571981654467, 140.2254005111965, 133.2290635058116, 130.77737795005453, 117.55789979403906, 111.54594161665241, 100.62584950672185, 100.59893402973978, 93.45933750236169, 78.42716715153382, 74.04375295622977, 73.18442587108237, 67.72171723727666, 53.752512261437914, 44.79995089117417, 43.39514447408388, 38.83070047838792, 33.571956034073985, 725.5651224621475, 1115.4856074220618, 287.2149441123884, 125.14426427046173, 100.84801508516675, 190.3815781831902, 377.2623551057305, 162.19506700509896, 121.0930461916673, 109.40109590659183, 865.3518860034162, 575.1705873720405, 396.14865529539395, 362.614308622204, 357.46675056466586, 320.92215615871595, 246.79367096559204, 244.03774674918415, 229.01065696859703, 219.63369033729492, 184.12361843611927, 174.95665764845867, 170.60336306780636, 142.38867996519852, 134.83016895996, 123.26630853302416, 118.93371938371894, 112.98226065608695, 111.83653030811092, 109.17750348559363, 105.53747300271817, 97.24862598087608, 91.13460390308069, 87.94403891898067, 86.57967173762233, 76.3716984328241, 73.99750545179182, 71.56053655444529, 67.6075767932731, 58.886079050596216, 254.04318806609442, 167.14967028701633, 104.41106176131224, 279.103040983545, 267.0164383965656, 251.92538934677674, 241.50520011070577, 237.55780776884478, 235.1336273277913, 232.8103664992026, 195.74500708161406, 179.16924348318634, 157.34655178316515, 146.51619174716592, 143.346750417943, 134.48521457158284, 130.2040915112607, 124.83628824883253, 123.72942412423352, 119.00870262698635, 118.11941379188983, 116.21258773917549, 113.06324333277963, 110.13310545962221, 109.65266067954872, 108.95822934619186, 103.89591453567621, 103.62146321457988, 92.30647153958485, 84.9255231952115, 78.97942227846863, 77.05046568573644, 73.27954672871086, 626.6089602973957, 557.1289827479467, 540.501954070269, 525.1376121480429, 366.9482535727036, 326.0811869205142, 255.51740627609246, 188.01253198129734, 173.32023696453322, 115.099934622828, 114.83653473235356, 111.9469466656294, 99.93991143964116, 95.46005332922519, 90.80364795886268, 84.264427860341, 83.07107443353091, 72.91668392398832, 62.73789800114932, 61.19756321313382, 60.1783203660133, 56.058122937356906, 54.91804745283782, 54.11757653039013, 52.1629154980603, 51.03077949030793, 49.14893275841521, 49.0532060340357, 48.470701167447885, 40.8299537707027, 37.85502705775899, 93.76852992237151, 335.8606767676687, 150.39162888752077, 82.85688499364656, 51.06208916265043, 191.10408432074902, 176.62062162334058, 141.18979773906128, 140.1038854672423, 118.92403842736171, 102.42520462019534, 96.20005487540968, 86.52806555845008, 86.0359668457499, 67.96621695031793, 67.70340864444105, 55.8108905153606, 32.536579358292336, 32.14914179396659, 32.01834793010667, 31.095204555553224, 29.39768662653627, 28.05311235741128, 27.9389860140027, 21.992480090958804, 21.68381781802567, 20.227222359953934, 18.716447174644358, 18.01065814111652, 16.942040821779027, 16.113033966154294, 14.62719491830548, 14.163423218901162, 13.317101982116403, 10.107192858881607, 197.75698714007737, 136.1853065049636, 134.15927556601662, 104.51270197919175, 104.35600014626093, 93.59758608256189, 78.19031439291489, 70.67203701133595, 69.33996590546168, 66.62245288303605, 57.407887868369485, 55.73540267133123, 44.361113765599974, 43.20377254805056, 37.56923911893371, 37.33506012450506, 35.72127268871926, 35.332878053030846, 31.94631776670493, 27.769418675446854, 27.078261611931993, 16.217381838869866, 14.802326171526968, 12.87844119827741, 10.87806995231573, 9.948920186095823, 8.413617157117706, 7.589557003312713, 6.354696413880563, 2.872743031997712, 27.598012854933486, 30.828354617235775, 120.73361499518876, 103.97717401842584, 102.8023947377677, 91.0289649984872, 78.53895035633755, 63.14887437765803, 49.497541072675865, 42.80250136470424, 40.502963947054354, 37.791070538126476, 35.95096618389968, 31.91729695069188, 31.71992134290887, 26.351489385897526, 24.196278144255952, 21.989061405616294, 18.89109108958562, 16.806083145787714, 15.243663687630196, 12.703781780437865, 12.351989796814019, 11.007585151052613, 8.198202270086053, 6.896605968215078, 6.55800177576515, 5.123262558837446, 4.7938691169649505, 3.881332831615176, 1.3853881872760174, 0.02864357211410492, 0.028644206068719136, 0.02864466525746673, 68.99523959002707, 58.563454137559255, 40.39114780806458, 35.169685904278786, 34.033526867489854, 33.304524451960326, 26.291137243669763, 23.356999957387103, 17.796655062575226, 13.273679212279822, 12.162792147390542, 11.663767504626778, 11.5075749947293, 10.422595821838414, 8.300141292635407, 4.495300158942756, 4.43411528220281, 2.0241495235396005, 0.017538884115997997, 0.017538476455371047, 0.01753845550085284, 0.017537899253642235, 0.01753719441984797, 0.01753719441984797, 0.017537200134716574, 0.01753719441984797, 0.017537200134716574, 0.01753721156445378, 0.01753678104435242, 0.01753649339596611, 0.01753659816855715, 0.017536634362724964, 0.017536659127155574, 0.017536662937067977, 75.66048745958413, 67.78132105601223, 45.50782257663083, 40.81475424922537, 14.418373796121958, 13.689615264090552, 11.119834648673978, 11.034612398147225, 9.65686261344297, 8.95348619656349, 8.347997738581071, 7.394228983789588, 4.665789913781232, 0.01662482972250948, 0.016624541347499952, 0.016625161527490325, 0.01662368317126678, 0.01662598495974645, 0.016624230388905342, 0.016623646690090872, 0.016624037559832706, 0.016623639741295465, 0.016623644952892022, 0.01662371270364727, 0.01662350250258611, 0.016623514662978078, 0.01662343648902971, 0.016623915955913025, 0.016623285352729538, 0.01662328187833183, 0.016623497290989553, 0.016623625843704644, 0.01662359109972759, 0.016623803037987606, 0.016623776980004817, 0.016623693594459893, 74.00611168041341, 17.61372561173518, 10.434049091820492, 9.484730309486268, 9.293829955702625, 9.083134457782949, 8.394630702554789, 8.336060997388671, 7.453489983289739, 6.217251067636941, 4.337703293750982, 3.09847174757175, 2.8263851310717816, 2.8263851310717816, 2.8263851310717816, 2.8263851310717816, 2.8263851310717816, 2.5525768653590677, 2.5525768653590677, 2.5525768653590677, 2.537389907501582, 0.44174817543362316, 0.011710795444284586, 0.011710357130388106, 0.011710348770177546, 0.011710348770177546, 0.011710834856705796, 0.011710169622808412, 0.011709902096070505, 0.011709894930175739, 0.01171034996449334, 0.011709991669755072, 0.011710050191228989, 72.28265797270662, 22.872036211999944, 21.183253010650894, 16.58424413654778, 14.749662262567494, 11.66607866460781, 0.010565513413709206, 0.010565513413709206, 0.010565513413709206, 0.01056569441167347, 0.01056550702554576, 0.010565492119831058, 0.010565475084728538, 0.010565488925749334, 0.010565439949829593, 0.010565496378606687, 0.010565467631871186, 0.010565455920238205, 0.010565636918202469, 0.010565540031056891, 0.01056543249697224, 0.010565434626360054, 0.010565389909215944, 0.010565434626360054, 0.01056537819758296, 0.01056537819758296, 0.01056537819758296, 0.01056537819758296, 0.01056537819758296, 0.01056537819758296, 0.010565464437789463, 0.010565404814930648, 0.010565406944318461, 0.010565763616777453, 0.010565499572688408, 0.010565630530039023, 0.010565480408198075, 0.01056547402003463, 0.010565471890646815, 0.010565570907180208, 0.010565464437789463, 0.010565462308401649, 0.010565508090239668, 0.010565589006976633, 0.010565477214116353, 0.010565476149422446, 0.010565471890646815, 49.82080910495874, 15.712103095950292, 12.133170975250929, 9.464605866808519, 9.348271548825855, 6.56162907362791, 4.8814830800507725, 2.273668034994954, 0.01021817215105249, 0.010217463562457051, 0.01021757935137558, 0.010217374494058185, 0.010217248808650893, 0.01021720922269584, 0.010217341835645266, 0.010217168647091912, 0.010217224067428985, 0.010217164688496407, 0.010217122133594724, 0.010217207243398087, 0.010217122133594724, 0.010217128071487983, 0.01021708056834192, 0.01021720922269584, 0.010217101350968321, 0.01021708056834192, 0.010217039003089115, 0.010217039003089115, 0.010217037023791361, 0.010216996448187432, 0.010217084526937426, 0.010217175574634045, 0.010217200315855953, 0.010217187450420561, 0.010217199326207077, 0.010217127081839106, 0.010217108278510457, 0.010217102340617198], \"Total\": [36547.0, 4093.0, 8181.0, 6168.0, 3519.0, 7487.0, 2012.0, 7104.0, 2456.0, 3610.0, 6924.0, 1871.0, 1832.0, 5561.0, 1610.0, 2775.0, 6027.0, 2488.0, 2135.0, 2639.0, 1390.0, 1855.0, 2898.0, 2464.0, 1873.0, 2114.0, 2485.0, 6582.0, 1211.0, 4730.0, 7487.397590990328, 7104.4805858622785, 6027.245013692741, 4730.176216326286, 4569.696406401991, 4195.304563720134, 4032.732955439804, 3660.6806491316684, 3557.6685261391212, 6924.770346528101, 3413.4291117096395, 3170.5866057676053, 2777.89992388899, 2703.7238951872273, 2647.797550132971, 2558.4316393767344, 2554.376192131455, 2194.2832667584735, 2084.155379662988, 2022.7655552367892, 1947.0361072232747, 1788.731527663738, 1734.2327133630467, 1714.2132400636249, 1619.7911050974465, 1594.6611867263864, 1583.5361593171317, 1449.5793147187514, 1419.7537323506183, 1330.4303259655521, 4421.392007820018, 2720.412768938085, 2415.7309143229513, 5440.964756828211, 4605.304521512208, 6582.733483214289, 4395.187158147286, 4241.196909058959, 2032.6057248129769, 3116.719693414817, 4033.327589354339, 5561.316033870924, 3119.3447507913493, 3811.641163607795, 4234.054975210758, 8181.877685669583, 4412.129888525187, 2898.152916774606, 2273.4444999483294, 2194.257412262418, 1976.2257209866777, 1662.5326817659134, 1559.0406075187864, 1160.4273565347642, 1108.7643359776262, 1026.9833579389465, 913.0906663716077, 862.8201355118489, 849.922606282375, 841.3790702260732, 829.0939761802507, 810.9736483429105, 793.2694599173993, 762.163605295394, 757.3058531815703, 748.7547694863448, 742.8352354825705, 689.5989755220631, 683.0080639047239, 666.2223405823024, 647.4717660718005, 641.4356315270014, 617.2164539076275, 601.3769685032452, 600.8958120448449, 582.7597865210679, 582.0117695227711, 2209.999517182112, 2380.045228676015, 652.9158850573375, 1157.0633551727944, 1790.1278907126184, 1806.265490562748, 2526.1858302628493, 3190.382640085768, 1427.6070922118506, 1317.0061698221787, 2488.7537924086128, 1358.1218894148176, 1998.6919483947038, 1958.017015066468, 2634.4024757625157, 3140.9370404835504, 3508.343807323638, 6168.351115418029, 1336.545192863143, 1598.5689694614298, 2859.521571005009, 3721.0981368373064, 2485.7223219624307, 2112.1483739185064, 1711.0977229367159, 1432.6237848367234, 1338.3939054006112, 1038.0686731419585, 1018.0688657673486, 920.3946908149956, 890.7110068314106, 789.193813333966, 763.2197000898717, 761.1446622627286, 757.9550517387983, 733.4040150513783, 704.2929528556099, 697.1184270530065, 656.8335720381652, 655.200428034959, 645.6640615640732, 643.0599778440733, 636.0903690399847, 628.5214604681447, 616.4763218507516, 602.8159789079763, 553.6982228477989, 548.4491414382389, 544.9404368080443, 533.2840097305269, 512.5316633201704, 476.9527236079774, 1196.7923543900858, 1708.5812322822, 1092.0733029787348, 2264.6142543898095, 990.586970168509, 3519.172684198179, 1381.7606690742857, 1522.0075490123386, 1869.7486405821517, 704.2183462281727, 1059.4895035957873, 824.5989622386471, 1241.2804617568243, 1274.288515015169, 1897.5107416442884, 3297.3558097135983, 1018.6477871289156, 2544.067419504275, 1261.1792100644986, 1786.5346793183694, 2775.1416422715215, 1366.5913485702872, 1354.3002118262634, 1307.1474294968855, 1292.4666604440902, 1011.4414225595024, 790.1256800848765, 771.0743223285211, 766.0540876420431, 765.1377056006015, 722.8728992312407, 710.7483086456235, 678.3082129414311, 671.6554427340297, 652.5371740327128, 625.936933892619, 621.193318105632, 577.4771953655107, 575.7408898645942, 550.6260815743614, 526.1944414279577, 494.20492289358623, 506.63240787087096, 486.48858675691116, 486.1439980851525, 465.37836955760736, 447.6519689324811, 429.98748737563324, 404.7948219649121, 374.2830665601514, 2464.905692869662, 1644.452657143686, 1251.6532270505938, 3610.154380718809, 902.4675246330496, 910.7838116041927, 656.88367962445, 2091.0409054610823, 2544.067419504275, 1403.28791604874, 3415.674346393108, 2956.1104046547443, 1998.0409306718882, 1672.724517457639, 8181.877685669583, 1395.5236492353272, 3297.3558097135983, 1423.3717193774826, 4093.2327011155335, 2114.139720978699, 1846.1580299899551, 1536.8134383728677, 1536.6077312781754, 1404.6849511455484, 1321.7087481314725, 1178.6047277720277, 1178.1886927416313, 1078.3415601612526, 980.7858867046318, 975.5327075067737, 898.8030051910955, 782.6794381190949, 778.2604003881493, 764.4573905985533, 745.3454328349001, 743.3890643941711, 706.5561016410438, 706.4611353912866, 704.1006026613717, 694.7472237570055, 613.4416140843554, 611.5482244798196, 610.5189719793042, 600.929372495634, 592.3643250017949, 575.1969446073329, 527.0234422206538, 519.1562213492418, 963.5281734251148, 2639.0461139265553, 1174.5203875164716, 1146.23773029402, 6168.351115418029, 1545.6388277715378, 1312.5270749088438, 3706.7742522907024, 2135.7970218636556, 1873.7631616772337, 1254.5305361555004, 1146.835045634618, 1028.8774864789482, 893.0467821565319, 855.478478693404, 842.632159118493, 775.623772860068, 765.4042580242286, 750.6434954405033, 741.2360381729834, 733.7431853107137, 705.2577648052708, 663.9451258780431, 631.9196618439686, 597.4681812768616, 537.3151326218651, 483.7429978457714, 479.6821369708147, 465.6851705618088, 455.6286088553918, 418.5383146682686, 411.16908247681687, 410.0655385200924, 400.5924946579287, 358.66774275010846, 350.1880721264646, 342.28462914600817, 340.5910119921364, 1606.5972772942073, 1567.924352644563, 1866.4964140722145, 8181.877685669583, 5561.316033870924, 1670.2039917487941, 1013.5168292437548, 36547.859795853765, 1855.3461551959788, 1166.2011107652243, 654.3390378399635, 442.91924973842134, 359.1918238677149, 254.86446417402382, 245.95598246428258, 222.72607270262444, 186.11342514419874, 162.48108952049387, 147.22609368905833, 116.79505562782994, 111.37191612362983, 102.50472032842804, 101.16163684650228, 94.14365969982242, 81.64050925147706, 80.11441973906041, 75.75694983834869, 67.87468763965742, 62.714392654599955, 52.54489053260731, 51.47302875448272, 46.32168507635637, 43.93187810799467, 42.822707660660264, 35.13462476026903, 34.70032675173033, 32.83926487391471, 2012.194833192447, 1871.2525144363983, 1832.4074989802732, 945.0668813363967, 914.5002252786122, 733.9687604726555, 624.5758901857811, 589.6922564303451, 348.51891970851074, 244.60447509790075, 242.99705890022136, 196.0772304796304, 183.12186665690214, 179.94996667701002, 169.4895359173906, 146.00330146278128, 142.95152387350134, 119.03285521604339, 116.47401302276857, 115.04716532599942, 113.76207672119375, 111.06490568940977, 104.9424955379555, 96.48443604696489, 95.65228604366901, 89.92204394584984, 89.02784818836753, 83.0289851612659, 78.12484087935421, 75.12269105291833, 343.5032841791588, 356.01113547537483, 2456.3478734235237, 2488.7537924086128, 140.38497689182805, 708.2516159535768, 1092.5112837116078, 1745.8457434693782, 844.1652390190734, 599.6230139207232, 1610.1146121888883, 1211.5083093971332, 867.9488346522182, 474.959627465752, 396.40109508975854, 388.7683804155442, 296.7588234819822, 270.17727226218676, 253.98702066538743, 239.4796211825258, 224.70872435893838, 173.20671319607519, 144.3158327665913, 141.18403510697286, 134.18769810695622, 131.7360125550435, 118.51653438981538, 112.50457624359312, 101.58448410249817, 101.55756863097511, 94.4179721052022, 79.38580174731014, 75.00238761849226, 74.1430606501386, 68.6803518392081, 54.711146857214246, 45.7585854869505, 44.353779126793576, 39.78933507416425, 34.530590629850316, 783.5466707693215, 1390.8139606692869, 387.712306196592, 202.22528944570817, 190.4048167979246, 751.8914006104068, 3519.172684198179, 595.3013070731068, 395.035682359595, 958.3066652360238, 866.3208374813436, 576.1395388429037, 397.11760676625715, 363.58326009922234, 358.43570203552906, 321.89110767211855, 247.76262243645527, 245.00669822004738, 229.97960843946026, 220.60264183349577, 185.0925699587696, 175.92560917223574, 171.57231454556805, 143.35763148078465, 135.79912043082322, 124.23526001785004, 119.9026708944424, 113.95121218374261, 112.80548181889262, 110.14645495645685, 106.50642447358139, 98.21757749298618, 92.1035553869975, 88.91299039400417, 87.54862320848555, 77.34064990368732, 74.96645693570864, 72.52948802650282, 68.57652827029143, 59.85503052667927, 430.6531480681369, 250.92694177450312, 274.86727391316873, 280.0694840341258, 267.9828814098269, 252.89183236619314, 242.47164313086554, 238.5242507821061, 236.1000703604961, 233.7768095124639, 196.71145022573884, 180.1356865013103, 158.31299483814905, 147.48263479497743, 144.31319343120433, 135.45165762476262, 131.170534563148, 125.80273127437785, 124.6958671374948, 119.97514564440792, 119.08585683840886, 117.17903075243677, 114.02968635219604, 111.0995484728835, 110.61910369281, 109.92467237957092, 104.86235758894672, 104.58790625314087, 93.27291455284613, 85.89196620847278, 79.94586532628013, 78.01690869899772, 74.24598974887061, 715.3687530394564, 558.1001199569432, 541.4730912792655, 526.1087493570394, 367.91939079399214, 327.0523241295108, 256.4885434912442, 188.98366920487476, 174.29137419596168, 116.07107183182454, 115.8076719413501, 112.91808387462594, 100.9110486486377, 96.43119053822173, 91.77478521258213, 85.2355650999852, 84.04221165481148, 73.8878211383531, 63.70903522958937, 62.168700422130364, 61.1494575798725, 57.02926014635345, 55.889184687171976, 55.08871373938668, 53.134052774221125, 52.00191669930447, 50.120069981374414, 50.02434327418954, 49.44183841270005, 41.80109097969925, 38.826164301305745, 125.2505050204882, 721.1294537988186, 1020.4880810385108, 250.92694177450312, 1502.695479661131, 192.09080397613747, 177.60734128104497, 142.17651742201562, 141.09060511556658, 119.9107580939477, 103.41192429617132, 97.18677457317173, 87.51478520677432, 87.02268653934719, 68.95293660280245, 68.69012829692558, 56.797610163684844, 33.523299012771695, 33.1358614506114, 33.005067639482846, 32.08192428444281, 30.384406274860517, 29.039832011890642, 28.92570566648723, 22.97919977179744, 22.670537466349916, 21.21394200827818, 19.703166827128886, 18.99737798850185, 17.928760501484366, 17.09975363612358, 15.613914588384066, 15.150142867225403, 14.303821702527063, 11.093912511366128, 198.74645012947215, 137.17476949435837, 135.1487385554114, 105.50216499938311, 105.34546313565568, 94.58704908147598, 79.17977738230964, 71.66150000559334, 70.32942896761084, 67.6119158724308, 58.39735088186444, 56.72486571655624, 45.350576754994734, 44.19323554281357, 38.558702157360614, 38.32452313800002, 36.7107357269972, 36.3223410782552, 32.93578075609969, 28.758881717837163, 28.067724625426948, 17.20684482826462, 15.791789200930937, 13.867904192328856, 11.867532975281, 10.938383280225107, 9.403080171004998, 8.579019992707465, 7.344159454721725, 3.8622060764685524, 140.38497689182805, 216.73325723505445, 121.72467478761166, 104.96823380619205, 103.79345453321923, 92.02002481543536, 79.53001016938316, 64.13993419960693, 50.48860086728233, 43.79356116032149, 41.49402376400252, 38.78213032052442, 36.94202600630685, 32.908356795243044, 32.710981125306816, 27.34254921722769, 25.187337998913353, 22.98012119416936, 19.882150888260355, 17.797142985166225, 16.234723480343543, 13.694841577507416, 13.343049579211968, 11.99864497582419, 9.189262105152487, 7.887665750613029, 7.549061558163101, 6.114322374940534, 5.784928899362901, 4.872392669149106, 2.3764479696739675, 1.0197106255227963, 1.0197707588427805, 1.0198440408226923, 69.99740585452862, 59.56562041898497, 41.39331405719843, 36.17185213839041, 35.035693125984714, 34.30669070601187, 27.293303569996485, 24.359166221888668, 18.798821300847138, 14.275845493402725, 13.164958446440622, 12.665933821074361, 12.509741286810584, 11.424762057944877, 9.302307522586757, 5.4974663888941055, 5.436281512154159, 3.026315757651229, 1.0197151945117615, 1.019727558822268, 1.0197310668758277, 1.0197446720196417, 1.0197123101452856, 1.0197123101452856, 1.0197126552433038, 1.0197123593055304, 1.019715122169208, 1.019728120808268, 1.0197172721460686, 1.0197046764772604, 1.019717948906391, 1.0197279575337366, 1.0197402990198168, 1.0197579473449296, 76.66356680969304, 68.78440044259557, 46.510901950839944, 41.81783359933429, 15.421453170723415, 14.692694650443213, 12.122914022883094, 12.037691755320328, 10.65994198047531, 9.956565567811843, 9.351077088689989, 8.397308469951879, 5.668869307337201, 1.0197326385169962, 1.0197307941318967, 1.0197861418381122, 1.0197079346601223, 1.0198508441524148, 1.0197437507008182, 1.0197142587369652, 1.0197386737941037, 1.0197150815646638, 1.0197161422175245, 1.019722429971507, 1.0197098261327686, 1.0197107432866974, 1.0197063944914357, 1.0197408716167033, 1.0197041253602828, 1.0197041317797162, 1.0197188920562104, 1.0197306987218395, 1.0197294176078042, 1.0197577983810955, 1.019757317877411, 1.0197912144557932, 75.01410445058956, 18.6217183831677, 11.442041994701231, 10.492723128935248, 10.301822722974864, 10.091127278391912, 9.402623517141116, 9.34405385070086, 8.461482780526847, 7.2252438307489, 5.345696251051367, 4.1064645106837085, 3.8343778941837403, 3.8343778941837403, 3.8343778941837403, 3.8343778941837403, 3.8343778941837403, 3.5605696284710264, 3.5605696284710264, 3.5605696284710264, 3.5453827889334404, 1.4497409385455822, 1.0197386141750326, 1.0197135354618985, 1.0197234482684452, 1.0197245177640415, 1.0197697109651993, 1.0197124107807045, 1.0197039031728783, 1.0197036735016114, 1.019747712220951, 1.0197346235671552, 1.0198440408226923, 73.29179495425856, 23.881173237962084, 22.19238999203714, 17.59338111809974, 15.758799280086478, 12.675215699181816, 1.0197044386862613, 1.0197044386862613, 1.0197046759860096, 1.019723390992427, 1.019707912076261, 1.019706884479679, 1.0197086903244068, 1.0197101715655168, 1.019706475153094, 1.0197125175431183, 1.0197106512079903, 1.019709578113262, 1.0197270972110941, 1.0197180111108917, 1.0197076882057448, 1.0197078946055471, 1.0197037018115016, 1.0197080541917292, 1.019703321920918, 1.019703321920918, 1.019703321920918, 1.0197033272891736, 1.0197033779098297, 1.0197033968602414, 1.01971208919359, 1.0197061880814302, 1.0197069581447504, 1.0197613722221637, 1.0197219214979467, 1.0197438891322008, 1.0197203603157674, 1.0197193187718219, 1.0197190690042222, 1.0197707588427805, 1.0197247499583715, 1.0197274280938955, 1.0197648973230657, 1.0198440408226923, 1.0197402990198168, 1.019750401675354, 1.0197573754176668, 50.83029449528478, 16.721588486276335, 13.142656439293573, 10.474091257134562, 10.357757012711982, 7.5711145018366, 5.890968470376817, 3.283153434533596, 1.0197438891322008, 1.0197199093084484, 1.0197366435426516, 1.019716440383077, 1.0197114339429694, 1.0197107233354268, 1.019725723161719, 1.0197114063722035, 1.0197172770829186, 1.0197116199507796, 1.0197093055050472, 1.019718179254882, 1.0197107289201501, 1.0197125175431183, 1.0197086242200553, 1.0197217988524199, 1.0197115130757277, 1.0197103277469288, 1.0197068399571239, 1.0197077270964638, 1.019708364570703, 1.0197059181154666, 1.019715789460136, 1.0197339224433333, 1.0197408043798488, 1.0197544581842495, 1.0198508441524148, 1.0197648973230657, 1.0197739298547752, 1.0197688559701175], \"Category\": [\"Default\", \"Default\", \"Default\", \"Default\", \"Default\", \"Default\", \"Default\", \"Default\", \"Default\", \"Default\", \"Default\", \"Default\", \"Default\", \"Default\", \"Default\", \"Default\", \"Default\", \"Default\", \"Default\", \"Default\", \"Default\", \"Default\", \"Default\", \"Default\", \"Default\", \"Default\", \"Default\", \"Default\", \"Default\", \"Default\", \"Topic1\", \"Topic1\", \"Topic1\", \"Topic1\", \"Topic1\", \"Topic1\", \"Topic1\", \"Topic1\", \"Topic1\", \"Topic1\", \"Topic1\", \"Topic1\", \"Topic1\", \"Topic1\", \"Topic1\", \"Topic1\", \"Topic1\", \"Topic1\", \"Topic1\", \"Topic1\", \"Topic1\", \"Topic1\", \"Topic1\", \"Topic1\", \"Topic1\", \"Topic1\", \"Topic1\", \"Topic1\", \"Topic1\", \"Topic1\", \"Topic1\", \"Topic1\", \"Topic1\", \"Topic1\", \"Topic1\", \"Topic1\", \"Topic1\", \"Topic1\", \"Topic1\", \"Topic1\", \"Topic1\", \"Topic1\", \"Topic1\", \"Topic1\", \"Topic1\", \"Topic1\", \"Topic1\", \"Topic2\", \"Topic2\", \"Topic2\", \"Topic2\", \"Topic2\", \"Topic2\", \"Topic2\", \"Topic2\", \"Topic2\", \"Topic2\", \"Topic2\", \"Topic2\", \"Topic2\", \"Topic2\", \"Topic2\", \"Topic2\", \"Topic2\", \"Topic2\", \"Topic2\", \"Topic2\", \"Topic2\", \"Topic2\", \"Topic2\", \"Topic2\", \"Topic2\", \"Topic2\", \"Topic2\", \"Topic2\", \"Topic2\", \"Topic2\", \"Topic2\", \"Topic2\", \"Topic2\", \"Topic2\", \"Topic2\", \"Topic2\", \"Topic2\", \"Topic2\", \"Topic2\", \"Topic2\", \"Topic2\", \"Topic2\", \"Topic2\", \"Topic2\", \"Topic2\", \"Topic2\", \"Topic2\", \"Topic2\", \"Topic2\", \"Topic2\", \"Topic2\", \"Topic2\", \"Topic3\", \"Topic3\", \"Topic3\", \"Topic3\", \"Topic3\", \"Topic3\", \"Topic3\", \"Topic3\", \"Topic3\", \"Topic3\", \"Topic3\", \"Topic3\", \"Topic3\", \"Topic3\", \"Topic3\", \"Topic3\", \"Topic3\", \"Topic3\", \"Topic3\", \"Topic3\", \"Topic3\", \"Topic3\", \"Topic3\", \"Topic3\", \"Topic3\", \"Topic3\", \"Topic3\", \"Topic3\", \"Topic3\", \"Topic3\", \"Topic3\", \"Topic3\", \"Topic3\", \"Topic3\", \"Topic3\", \"Topic3\", \"Topic3\", \"Topic3\", \"Topic3\", \"Topic3\", \"Topic3\", \"Topic3\", \"Topic3\", \"Topic3\", \"Topic3\", \"Topic3\", \"Topic3\", \"Topic3\", \"Topic3\", \"Topic3\", \"Topic4\", \"Topic4\", \"Topic4\", \"Topic4\", \"Topic4\", \"Topic4\", \"Topic4\", \"Topic4\", \"Topic4\", \"Topic4\", \"Topic4\", \"Topic4\", \"Topic4\", \"Topic4\", \"Topic4\", \"Topic4\", \"Topic4\", \"Topic4\", \"Topic4\", \"Topic4\", \"Topic4\", \"Topic4\", \"Topic4\", \"Topic4\", \"Topic4\", \"Topic4\", \"Topic4\", \"Topic4\", \"Topic4\", \"Topic4\", \"Topic4\", \"Topic4\", \"Topic4\", \"Topic4\", \"Topic4\", \"Topic4\", \"Topic4\", \"Topic4\", \"Topic4\", \"Topic4\", \"Topic4\", \"Topic4\", \"Topic4\", \"Topic4\", \"Topic4\", \"Topic4\", \"Topic4\", \"Topic4\", \"Topic5\", \"Topic5\", \"Topic5\", \"Topic5\", \"Topic5\", \"Topic5\", \"Topic5\", \"Topic5\", \"Topic5\", \"Topic5\", \"Topic5\", \"Topic5\", \"Topic5\", \"Topic5\", \"Topic5\", \"Topic5\", \"Topic5\", \"Topic5\", \"Topic5\", \"Topic5\", \"Topic5\", \"Topic5\", \"Topic5\", \"Topic5\", \"Topic5\", \"Topic5\", \"Topic5\", \"Topic5\", \"Topic5\", \"Topic5\", \"Topic5\", \"Topic5\", \"Topic5\", \"Topic5\", \"Topic5\", \"Topic5\", \"Topic5\", \"Topic5\", \"Topic6\", \"Topic6\", \"Topic6\", \"Topic6\", \"Topic6\", \"Topic6\", \"Topic6\", \"Topic6\", \"Topic6\", \"Topic6\", \"Topic6\", \"Topic6\", \"Topic6\", \"Topic6\", \"Topic6\", \"Topic6\", \"Topic6\", \"Topic6\", \"Topic6\", \"Topic6\", \"Topic6\", \"Topic6\", \"Topic6\", \"Topic6\", \"Topic6\", \"Topic6\", \"Topic6\", \"Topic6\", \"Topic6\", \"Topic6\", \"Topic6\", \"Topic6\", \"Topic6\", \"Topic6\", \"Topic6\", \"Topic6\", \"Topic6\", \"Topic7\", \"Topic7\", \"Topic7\", \"Topic7\", \"Topic7\", \"Topic7\", \"Topic7\", \"Topic7\", \"Topic7\", \"Topic7\", \"Topic7\", \"Topic7\", \"Topic7\", \"Topic7\", \"Topic7\", \"Topic7\", \"Topic7\", \"Topic7\", \"Topic7\", \"Topic7\", \"Topic7\", \"Topic7\", \"Topic7\", \"Topic7\", \"Topic7\", \"Topic7\", \"Topic7\", \"Topic7\", \"Topic7\", \"Topic7\", \"Topic8\", \"Topic8\", \"Topic8\", \"Topic8\", \"Topic8\", \"Topic8\", \"Topic8\", \"Topic8\", \"Topic8\", \"Topic8\", \"Topic8\", \"Topic8\", \"Topic8\", \"Topic8\", \"Topic8\", \"Topic8\", \"Topic8\", \"Topic8\", \"Topic8\", \"Topic8\", \"Topic8\", \"Topic8\", \"Topic8\", \"Topic8\", \"Topic8\", \"Topic8\", \"Topic8\", \"Topic8\", \"Topic8\", \"Topic8\", \"Topic8\", \"Topic8\", \"Topic8\", \"Topic8\", \"Topic8\", \"Topic8\", \"Topic8\", \"Topic8\", \"Topic8\", \"Topic8\", \"Topic9\", \"Topic9\", \"Topic9\", \"Topic9\", \"Topic9\", \"Topic9\", \"Topic9\", \"Topic9\", \"Topic9\", \"Topic9\", \"Topic9\", \"Topic9\", \"Topic9\", \"Topic9\", \"Topic9\", \"Topic9\", \"Topic9\", \"Topic9\", \"Topic9\", \"Topic9\", \"Topic9\", \"Topic9\", \"Topic9\", \"Topic9\", \"Topic9\", \"Topic9\", \"Topic9\", \"Topic9\", \"Topic9\", \"Topic9\", \"Topic9\", \"Topic9\", \"Topic9\", \"Topic9\", \"Topic9\", \"Topic9\", \"Topic9\", \"Topic9\", \"Topic9\", \"Topic9\", \"Topic10\", \"Topic10\", \"Topic10\", \"Topic10\", \"Topic10\", \"Topic10\", \"Topic10\", \"Topic10\", \"Topic10\", \"Topic10\", \"Topic10\", \"Topic10\", \"Topic10\", \"Topic10\", \"Topic10\", \"Topic10\", \"Topic10\", \"Topic10\", \"Topic10\", \"Topic10\", \"Topic10\", \"Topic10\", \"Topic10\", \"Topic10\", \"Topic10\", \"Topic10\", \"Topic10\", \"Topic10\", \"Topic10\", \"Topic10\", \"Topic10\", \"Topic10\", \"Topic10\", \"Topic11\", \"Topic11\", \"Topic11\", \"Topic11\", \"Topic11\", \"Topic11\", \"Topic11\", \"Topic11\", \"Topic11\", \"Topic11\", \"Topic11\", \"Topic11\", \"Topic11\", \"Topic11\", \"Topic11\", \"Topic11\", \"Topic11\", \"Topic11\", \"Topic11\", \"Topic11\", \"Topic11\", \"Topic11\", \"Topic11\", \"Topic11\", \"Topic11\", \"Topic11\", \"Topic11\", \"Topic11\", \"Topic11\", \"Topic11\", \"Topic11\", \"Topic12\", \"Topic12\", \"Topic12\", \"Topic12\", \"Topic12\", \"Topic12\", \"Topic12\", \"Topic12\", \"Topic12\", \"Topic12\", \"Topic12\", \"Topic12\", \"Topic12\", \"Topic12\", \"Topic12\", \"Topic12\", \"Topic12\", \"Topic12\", \"Topic12\", \"Topic12\", \"Topic12\", \"Topic12\", \"Topic12\", \"Topic12\", \"Topic12\", \"Topic12\", \"Topic12\", \"Topic12\", \"Topic12\", \"Topic12\", \"Topic12\", \"Topic12\", \"Topic12\", \"Topic12\", \"Topic12\", \"Topic13\", \"Topic13\", \"Topic13\", \"Topic13\", \"Topic13\", \"Topic13\", \"Topic13\", \"Topic13\", \"Topic13\", \"Topic13\", \"Topic13\", \"Topic13\", \"Topic13\", \"Topic13\", \"Topic13\", \"Topic13\", \"Topic13\", \"Topic13\", \"Topic13\", \"Topic13\", \"Topic13\", \"Topic13\", \"Topic13\", \"Topic13\", \"Topic13\", \"Topic13\", \"Topic13\", \"Topic13\", \"Topic13\", \"Topic13\", \"Topic14\", \"Topic14\", \"Topic14\", \"Topic14\", \"Topic14\", \"Topic14\", \"Topic14\", \"Topic14\", \"Topic14\", \"Topic14\", \"Topic14\", \"Topic14\", \"Topic14\", \"Topic14\", \"Topic14\", \"Topic14\", \"Topic14\", \"Topic14\", \"Topic14\", \"Topic14\", \"Topic14\", \"Topic14\", \"Topic14\", \"Topic14\", \"Topic14\", \"Topic14\", \"Topic14\", \"Topic14\", \"Topic14\", \"Topic14\", \"Topic14\", \"Topic14\", \"Topic15\", \"Topic15\", \"Topic15\", \"Topic15\", \"Topic15\", \"Topic15\", \"Topic15\", \"Topic15\", \"Topic15\", \"Topic15\", \"Topic15\", \"Topic15\", \"Topic15\", \"Topic15\", \"Topic15\", \"Topic15\", \"Topic15\", \"Topic15\", \"Topic15\", \"Topic15\", \"Topic15\", \"Topic15\", \"Topic15\", \"Topic15\", \"Topic15\", \"Topic15\", \"Topic15\", \"Topic15\", \"Topic15\", \"Topic15\", \"Topic15\", \"Topic15\", \"Topic16\", \"Topic16\", \"Topic16\", \"Topic16\", \"Topic16\", \"Topic16\", \"Topic16\", \"Topic16\", \"Topic16\", \"Topic16\", \"Topic16\", \"Topic16\", \"Topic16\", \"Topic16\", \"Topic16\", \"Topic16\", \"Topic16\", \"Topic16\", \"Topic16\", \"Topic16\", \"Topic16\", \"Topic16\", \"Topic16\", \"Topic16\", \"Topic16\", \"Topic16\", \"Topic16\", \"Topic16\", \"Topic16\", \"Topic16\", \"Topic16\", \"Topic16\", \"Topic16\", \"Topic16\", \"Topic17\", \"Topic17\", \"Topic17\", \"Topic17\", \"Topic17\", \"Topic17\", \"Topic17\", \"Topic17\", \"Topic17\", \"Topic17\", \"Topic17\", \"Topic17\", \"Topic17\", \"Topic17\", \"Topic17\", \"Topic17\", \"Topic17\", \"Topic17\", \"Topic17\", \"Topic17\", \"Topic17\", \"Topic17\", \"Topic17\", \"Topic17\", \"Topic17\", \"Topic17\", \"Topic17\", \"Topic17\", \"Topic17\", \"Topic17\", \"Topic17\", \"Topic17\", \"Topic17\", \"Topic17\", \"Topic17\", \"Topic17\", \"Topic18\", \"Topic18\", \"Topic18\", \"Topic18\", \"Topic18\", \"Topic18\", \"Topic18\", \"Topic18\", \"Topic18\", \"Topic18\", \"Topic18\", \"Topic18\", \"Topic18\", \"Topic18\", \"Topic18\", \"Topic18\", \"Topic18\", \"Topic18\", \"Topic18\", \"Topic18\", \"Topic18\", \"Topic18\", \"Topic18\", \"Topic18\", \"Topic18\", \"Topic18\", \"Topic18\", \"Topic18\", \"Topic18\", \"Topic18\", \"Topic18\", \"Topic18\", \"Topic18\", \"Topic19\", \"Topic19\", \"Topic19\", \"Topic19\", \"Topic19\", \"Topic19\", \"Topic19\", \"Topic19\", \"Topic19\", \"Topic19\", \"Topic19\", \"Topic19\", \"Topic19\", \"Topic19\", \"Topic19\", \"Topic19\", \"Topic19\", \"Topic19\", \"Topic19\", \"Topic19\", \"Topic19\", \"Topic19\", \"Topic19\", \"Topic19\", \"Topic19\", \"Topic19\", \"Topic19\", \"Topic19\", \"Topic19\", \"Topic19\", \"Topic19\", \"Topic19\", \"Topic19\", \"Topic19\", \"Topic19\", \"Topic19\", \"Topic19\", \"Topic19\", \"Topic19\", \"Topic19\", \"Topic19\", \"Topic19\", \"Topic19\", \"Topic19\", \"Topic19\", \"Topic19\", \"Topic19\", \"Topic20\", \"Topic20\", \"Topic20\", \"Topic20\", \"Topic20\", \"Topic20\", \"Topic20\", \"Topic20\", \"Topic20\", \"Topic20\", \"Topic20\", \"Topic20\", \"Topic20\", \"Topic20\", \"Topic20\", \"Topic20\", \"Topic20\", \"Topic20\", \"Topic20\", \"Topic20\", \"Topic20\", \"Topic20\", \"Topic20\", \"Topic20\", \"Topic20\", \"Topic20\", \"Topic20\", \"Topic20\", \"Topic20\", \"Topic20\", \"Topic20\", \"Topic20\", \"Topic20\", \"Topic20\", \"Topic20\", \"Topic20\", \"Topic20\", \"Topic20\"], \"logprob\": [30.0, 29.0, 28.0, 27.0, 26.0, 25.0, 24.0, 23.0, 22.0, 21.0, 20.0, 19.0, 18.0, 17.0, 16.0, 15.0, 14.0, 13.0, 12.0, 11.0, 10.0, 9.0, 8.0, 7.0, 6.0, 5.0, 4.0, 3.0, 2.0, 1.0, -3.8931, -3.9456, -4.1101, -4.3525, -4.387, -4.4725, -4.512, -4.6088, -4.6374, -3.9714, -4.6788, -4.7526, -4.8849, -4.9119, -4.9328, -4.9672, -4.9688, -5.1208, -5.1723, -5.2022, -5.2404, -5.3252, -5.3562, -5.3678, -5.4245, -5.4401, -5.4471, -5.5356, -5.5564, -5.6214, -4.4208, -4.9085, -5.0283, -4.2319, -4.3986, -4.0529, -4.4559, -4.5103, -5.2076, -4.8411, -4.6428, -4.3966, -4.8615, -4.7262, -4.6759, -4.3058, -4.703, -4.0243, -4.2671, -4.3026, -4.4073, -4.5802, -4.6446, -4.94, -4.9856, -5.0623, -5.18, -5.2367, -5.2517, -5.2619, -5.2766, -5.2987, -5.3208, -5.3609, -5.3673, -5.3786, -5.3866, -5.461, -5.4707, -5.4956, -5.5242, -5.5335, -5.5721, -5.5981, -5.5989, -5.6296, -5.6309, -4.3239, -4.257, -5.5197, -4.9861, -4.5888, -4.5923, -4.3257, -4.1243, -4.8452, -4.9187, -4.4084, -4.9113, -4.6211, -4.637, -4.4356, -4.3105, -4.4378, -4.1396, -5.0116, -4.9407, -4.7473, -4.7237, -3.9123, -4.0752, -4.2859, -4.4636, -4.5317, -4.786, -4.8055, -4.9065, -4.9393, -5.0604, -5.0939, -5.0967, -5.1009, -5.1338, -5.1744, -5.1846, -5.2443, -5.2467, -5.2614, -5.2655, -5.2764, -5.2884, -5.3078, -5.3302, -5.4153, -5.4249, -5.4313, -5.453, -5.4927, -5.5648, -4.6586, -4.344, -4.7905, -4.1248, -4.8984, -3.8069, -4.6356, -4.6163, -4.5378, -5.2136, -4.9653, -5.1454, -4.9604, -4.9666, -4.8162, -4.677, -5.0821, -4.8569, -5.0679, -5.0788, -3.6644, -4.3731, -4.3822, -4.4176, -4.4289, -4.6743, -4.9215, -4.9459, -4.9525, -4.9537, -5.0106, -5.0275, -5.0743, -5.0842, -5.1131, -5.1548, -5.1624, -5.2355, -5.2385, -5.2832, -5.3286, -5.3915, -5.3666, -5.4072, -5.4079, -5.4517, -5.4906, -5.5309, -5.5915, -5.67, -3.832, -4.2256, -4.5241, -3.5772, -4.8515, -4.8672, -5.1505, -4.2278, -4.2292, -4.6855, -4.1447, -4.2624, -4.4976, -4.7155, -4.2463, -4.9017, -4.6857, -5.0782, -3.0399, -3.7008, -3.8364, -4.0199, -4.0201, -4.1099, -4.1708, -4.2855, -4.2859, -4.3745, -4.4694, -4.4748, -4.5568, -4.6953, -4.7009, -4.7189, -4.7442, -4.7468, -4.7977, -4.7979, -4.8012, -4.8146, -4.9392, -4.9423, -4.944, -4.9599, -4.9743, -5.0037, -5.0913, -5.1064, -4.525, -3.5988, -4.3775, -4.4979, -3.4712, -4.4268, -4.6714, -4.3141, -3.3472, -3.4782, -3.8796, -3.9694, -4.0781, -4.2198, -4.2628, -4.278, -4.3609, -4.3742, -4.3937, -4.4063, -4.4165, -4.4562, -4.5166, -4.5661, -4.6223, -4.7286, -4.8338, -4.8422, -4.8719, -4.8938, -4.9789, -4.9967, -4.9994, -5.0228, -5.1336, -5.1576, -5.1805, -5.1855, -3.6729, -3.7125, -4.2296, -3.5895, -4.1772, -4.6741, -4.8983, -0.4393, -3.4203, -3.8849, -4.4634, -4.8542, -5.0642, -5.4084, -5.4441, -5.5437, -5.724, -5.8605, -5.9597, -6.1928, -6.2407, -6.3244, -6.3377, -6.4102, -6.5542, -6.5733, -6.6298, -6.7411, -6.8212, -7.0009, -7.0219, -7.1293, -7.1833, -7.2094, -7.4119, -7.4246, -7.4812, -2.4629, -2.5356, -2.5566, -3.2192, -3.2521, -3.4723, -3.6339, -3.6915, -4.2185, -4.5737, -4.5803, -4.7958, -4.8645, -4.8821, -4.9423, -5.0924, -5.1137, -5.2981, -5.32, -5.3325, -5.3438, -5.368, -5.4252, -5.5101, -5.5188, -5.5812, -5.5913, -5.6619, -5.7235, -5.7632, -4.4201, -4.6555, -3.3855, -3.8256, -5.3522, -4.5657, -4.4648, -4.3379, -4.6401, -4.8049, -2.431, -2.7157, -3.0495, -3.6533, -3.8345, -3.854, -4.1248, -4.219, -4.281, -4.34, -4.404, -4.6656, -4.8492, -4.8712, -4.9224, -4.941, -5.0476, -5.1001, -5.2031, -5.2034, -5.277, -5.4523, -5.5098, -5.5215, -5.5991, -5.8301, -6.0123, -6.0442, -6.1553, -6.3008, -3.2275, -2.7975, -4.1543, -4.985, -5.2009, -4.5655, -3.8816, -4.7257, -5.0179, -5.1195, -2.6299, -3.0384, -3.4112, -3.4997, -3.514, -3.6218, -3.8845, -3.8957, -3.9593, -4.0011, -4.1774, -4.2285, -4.2537, -4.4345, -4.489, -4.5787, -4.6145, -4.6658, -4.676, -4.7001, -4.734, -4.8158, -4.8807, -4.9163, -4.932, -5.0574, -5.089, -5.1225, -5.1793, -5.3174, -3.8555, -4.2741, -4.7447, -3.7338, -3.7781, -3.8362, -3.8785, -3.895, -3.9052, -3.9151, -4.0886, -4.177, -4.3069, -4.3782, -4.4001, -4.4639, -4.4963, -4.5384, -4.5473, -4.5862, -4.5937, -4.6099, -4.6374, -4.6637, -4.668, -4.6744, -4.722, -4.7246, -4.8403, -4.9236, -4.9962, -5.0209, -5.0711, -2.925, -2.9113, -2.9416, -2.9704, -3.3289, -3.4469, -3.6908, -3.9976, -4.0789, -4.4883, -4.4906, -4.516, -4.6295, -4.6754, -4.7254, -4.8001, -4.8144, -4.9448, -5.0951, -5.12, -5.1368, -5.2077, -5.2282, -5.2429, -5.2797, -5.3016, -5.3392, -5.3412, -5.3531, -5.5247, -5.6003, -4.6932, -3.4174, -4.2208, -4.817, -5.301, -3.2459, -3.3247, -3.5486, -3.5564, -3.7203, -3.8696, -3.9323, -4.0383, -4.044, -4.2797, -4.2836, -4.4768, -5.0164, -5.0284, -5.0324, -5.0617, -5.1178, -5.1646, -5.1687, -5.408, -5.4222, -5.4917, -5.5693, -5.6078, -5.6689, -5.7191, -5.8159, -5.8481, -5.9097, -6.1855, -3.1319, -3.505, -3.52, -3.7697, -3.7712, -3.88, -4.0598, -4.1609, -4.18, -4.2199, -4.3688, -4.3984, -4.6266, -4.6531, -4.7928, -4.7991, -4.8432, -4.8542, -4.9549, -5.0951, -5.1203, -5.6329, -5.7242, -5.8634, -6.0322, -6.1215, -6.2891, -6.3922, -6.5698, -7.3637, -5.1012, -4.9906, -3.4407, -3.5901, -3.6014, -3.7231, -3.8706, -4.0887, -4.3323, -4.4776, -4.5329, -4.6022, -4.6521, -4.7711, -4.7773, -4.9627, -5.048, -5.1437, -5.2956, -5.4125, -5.5101, -5.6923, -5.7204, -5.8357, -6.1303, -6.3032, -6.3536, -6.6005, -6.6669, -6.8781, -7.9083, -11.7871, -11.787, -11.787, -3.413, -3.577, -3.9485, -4.0869, -4.1197, -4.1414, -4.3778, -4.4962, -4.7681, -5.0613, -5.1487, -5.1906, -5.2041, -5.3031, -5.5308, -6.144, -6.1578, -6.9419, -11.6904, -11.6904, -11.6904, -11.6905, -11.6905, -11.6905, -11.6905, -11.6905, -11.6905, -11.6905, -11.6905, -11.6906, -11.6905, -11.6905, -11.6905, -11.6905, -3.2286, -3.3386, -3.737, -3.8459, -4.8864, -4.9383, -5.1462, -5.1539, -5.2872, -5.3629, -5.4329, -5.5542, -6.0146, -11.6518, -11.6518, -11.6517, -11.6518, -11.6517, -11.6518, -11.6518, -11.6518, -11.6518, -11.6518, -11.6518, -11.6518, -11.6518, -11.6518, -11.6518, -11.6518, -11.6518, -11.6518, -11.6518, -11.6518, -11.6518, -11.6518, -11.6518, -2.876, -4.3115, -4.8351, -4.9305, -4.9508, -4.9738, -5.0526, -5.0596, -5.1715, -5.3529, -5.7128, -6.0493, -6.1412, -6.1412, -6.1412, -6.1412, -6.1412, -6.2431, -6.2431, -6.2431, -6.2491, -7.9972, -11.6274, -11.6275, -11.6275, -11.6275, -11.6274, -11.6275, -11.6275, -11.6275, -11.6275, -11.6275, -11.6275, -2.7847, -3.9354, -4.0121, -4.2569, -4.3741, -4.6086, -11.6155, -11.6155, -11.6155, -11.6155, -11.6155, -11.6155, -11.6155, -11.6155, -11.6155, -11.6155, -11.6155, -11.6155, -11.6155, -11.6155, -11.6155, -11.6155, -11.6155, -11.6155, -11.6155, -11.6155, -11.6155, -11.6155, -11.6155, -11.6155, -11.6155, -11.6155, -11.6155, -11.6154, -11.6155, -11.6155, -11.6155, -11.6155, -11.6155, -11.6155, -11.6155, -11.6155, -11.6155, -11.6155, -11.6155, -11.6155, -11.6155, -3.0838, -4.2378, -4.4963, -4.7447, -4.757, -5.111, -5.4068, -6.1708, -11.5758, -11.5759, -11.5759, -11.5759, -11.5759, -11.5759, -11.5759, -11.5759, -11.5759, -11.5759, -11.5759, -11.5759, -11.5759, -11.5759, -11.5759, -11.5759, -11.5759, -11.5759, -11.5759, -11.5759, -11.5759, -11.5759, -11.5759, -11.5759, -11.5759, -11.5759, -11.5759, -11.5759, -11.5759, -11.5759], \"loglift\": [30.0, 29.0, 28.0, 27.0, 26.0, 25.0, 24.0, 23.0, 22.0, 21.0, 20.0, 19.0, 18.0, 17.0, 16.0, 15.0, 14.0, 13.0, 12.0, 11.0, 10.0, 9.0, 8.0, 7.0, 6.0, 5.0, 4.0, 3.0, 2.0, 1.0, 1.0611, 1.0611, 1.0611, 1.061, 1.061, 1.061, 1.061, 1.061, 1.0609, 1.0609, 1.0609, 1.0609, 1.0609, 1.0609, 1.0609, 1.0608, 1.0608, 1.0608, 1.0608, 1.0607, 1.0607, 1.0607, 1.0607, 1.0607, 1.0606, 1.0606, 1.0606, 1.0606, 1.0605, 1.0605, 1.0602, 1.0581, 1.0571, 1.0415, 1.0416, 1.03, 1.031, 1.0123, 1.0505, 0.9895, 0.93, 0.855, 0.9683, 0.9031, 0.8484, 0.5597, 0.78, 1.8791, 1.879, 1.879, 1.8789, 1.8788, 1.8788, 1.8786, 1.8785, 1.8785, 1.8784, 1.8783, 1.8783, 1.8783, 1.8783, 1.8782, 1.8782, 1.8782, 1.8782, 1.8781, 1.8781, 1.878, 1.878, 1.878, 1.8779, 1.8779, 1.8779, 1.8778, 1.8778, 1.8778, 1.8778, 1.8506, 1.8433, 1.8741, 1.8354, 1.7963, 1.7839, 1.715, 1.6829, 1.7662, 1.7733, 1.6472, 1.75, 1.6539, 1.6585, 1.5632, 1.5124, 1.2744, 1.0084, 1.6657, 1.5577, 1.1695, 0.9297, 2.1446, 2.1445, 2.1444, 2.1443, 2.1442, 2.144, 2.144, 2.1439, 2.1439, 2.1437, 2.1437, 2.1437, 2.1437, 2.1436, 2.1436, 2.1436, 2.1435, 2.1435, 2.1435, 2.1435, 2.1434, 2.1434, 2.1434, 2.1434, 2.1432, 2.1432, 2.1432, 2.1432, 2.1431, 2.143, 2.1292, 2.0878, 2.0888, 2.0253, 2.0784, 1.9023, 2.0085, 1.931, 1.8038, 2.1045, 1.9443, 2.0148, 1.7909, 1.7584, 1.5107, 1.0973, 1.8668, 1.1767, 1.6675, 1.3084, 2.2823, 2.282, 2.282, 2.282, 2.282, 2.2817, 2.2815, 2.2815, 2.2814, 2.2814, 2.2814, 2.2814, 2.2813, 2.2813, 2.2812, 2.2812, 2.2812, 2.281, 2.281, 2.281, 2.2809, 2.2808, 2.2808, 2.2807, 2.2807, 2.2806, 2.2806, 2.2805, 2.2803, 2.2802, 2.2333, 2.2444, 2.2188, 2.1065, 2.2186, 2.1937, 2.2372, 2.002, 1.8045, 1.9431, 1.5943, 1.6212, 1.7777, 1.7375, 0.6192, 1.7324, 1.0886, 1.5362, 2.5182, 2.5179, 2.5179, 2.5178, 2.5178, 2.5177, 2.5177, 2.5176, 2.5176, 2.5175, 2.5174, 2.5174, 2.5173, 2.5172, 2.5172, 2.5171, 2.5171, 2.5171, 2.517, 2.517, 2.517, 2.517, 2.5168, 2.5168, 2.5168, 2.5168, 2.5168, 2.5167, 2.5166, 2.5166, 2.4796, 2.3982, 2.429, 2.333, 1.6768, 2.1052, 2.0241, 1.3431, 2.8614, 2.8613, 2.8611, 2.861, 2.8609, 2.8607, 2.8607, 2.8607, 2.8606, 2.8606, 2.8605, 2.8605, 2.8605, 2.8605, 2.8604, 2.8603, 2.8602, 2.86, 2.8598, 2.8598, 2.8598, 2.8597, 2.8595, 2.8595, 2.8595, 2.8594, 2.8592, 2.8591, 2.859, 2.859, 2.8204, 2.8052, 2.1138, 1.276, 1.0744, 1.7803, 2.0557, 2.9295, 2.9291, 2.9288, 2.9282, 2.9275, 2.9271, 2.9261, 2.9259, 2.9256, 2.9248, 2.9241, 2.9235, 2.922, 2.9216, 2.9209, 2.9208, 2.9201, 2.9187, 2.9185, 2.9178, 2.9165, 2.9154, 2.9126, 2.9123, 2.9103, 2.9093, 2.9087, 2.9041, 2.9038, 2.9023, 3.8053, 3.8052, 3.8052, 3.8047, 3.8047, 3.8044, 3.8042, 3.8041, 3.803, 3.8018, 3.8018, 3.8008, 3.8005, 3.8004, 3.8001, 3.7991, 3.799, 3.7976, 3.7975, 3.7974, 3.7973, 3.7971, 3.7966, 3.7957, 3.7957, 3.795, 3.7949, 3.7941, 3.7934, 3.7929, 3.6159, 3.3447, 2.6832, 2.23, 3.5786, 2.7467, 2.4142, 2.0723, 2.4967, 2.674, 4.0601, 4.0599, 4.0596, 4.0587, 4.0583, 4.0582, 4.0574, 4.0571, 4.0569, 4.0567, 4.0564, 4.0551, 4.054, 4.0539, 4.0535, 4.0534, 4.0526, 4.0521, 4.0512, 4.0512, 4.0505, 4.0485, 4.0478, 4.0477, 4.0466, 4.043, 4.0395, 4.0388, 4.0363, 4.0325, 3.9838, 3.8401, 3.7606, 3.5808, 3.4251, 2.6871, 1.8276, 2.7604, 2.8783, 1.8905, 4.481, 4.4805, 4.4797, 4.4795, 4.4794, 4.4791, 4.4782, 4.4782, 4.4779, 4.4777, 4.4769, 4.4766, 4.4765, 4.4754, 4.475, 4.4743, 4.474, 4.4736, 4.4735, 4.4733, 4.473, 4.4722, 4.4716, 4.4712, 4.471, 4.4695, 4.4691, 4.4687, 4.4679, 4.4658, 3.9543, 4.0759, 3.5142, 4.5064, 4.5062, 4.506, 4.5058, 4.5058, 4.5057, 4.5057, 4.5049, 4.5044, 4.5037, 4.5032, 4.5031, 4.5027, 4.5024, 4.5021, 4.502, 4.5017, 4.5017, 4.5015, 4.5013, 4.5011, 4.501, 4.501, 4.5006, 4.5005, 4.4994, 4.4985, 4.4976, 4.4973, 4.4967, 4.3773, 4.6394, 4.6393, 4.6393, 4.6385, 4.6381, 4.6373, 4.636, 4.6355, 4.6327, 4.6327, 4.6325, 4.6314, 4.631, 4.6305, 4.6296, 4.6295, 4.6279, 4.6257, 4.6254, 4.6251, 4.6239, 4.6236, 4.6233, 4.6227, 4.6223, 4.6215, 4.6215, 4.6213, 4.6176, 4.6158, 4.3516, 3.877, 2.7263, 3.5331, 1.2591, 5.3713, 5.3709, 5.3695, 5.3694, 5.3682, 5.3669, 5.3662, 5.3651, 5.365, 5.362, 5.362, 5.3589, 5.3466, 5.3462, 5.3461, 5.3452, 5.3434, 5.3419, 5.3417, 5.3326, 5.3319, 5.3288, 5.3251, 5.3231, 5.3198, 5.317, 5.3112, 5.3091, 5.305, 5.2833, 5.4512, 5.449, 5.4488, 5.4468, 5.4468, 5.4457, 5.4436, 5.4423, 5.442, 5.4414, 5.4391, 5.4386, 5.4341, 5.4335, 5.4302, 5.43, 5.4289, 5.4286, 5.4257, 5.4212, 5.4203, 5.397, 5.3915, 5.3822, 5.3691, 5.3614, 5.345, 5.3336, 5.3115, 5.1602, 3.8295, 3.506, 5.6328, 5.6314, 5.6313, 5.6301, 5.6284, 5.6254, 5.6211, 5.618, 5.6168, 5.615, 5.6137, 5.6104, 5.6102, 5.604, 5.6008, 5.5969, 5.5898, 5.5836, 5.5779, 5.5658, 5.5638, 5.5547, 5.5268, 5.5067, 5.5002, 5.4641, 5.453, 5.4135, 5.1013, 2.0686, 2.0686, 2.0685, 6.2137, 6.2111, 6.2036, 6.2, 6.1991, 6.1985, 6.1907, 6.1861, 6.1733, 6.1553, 6.1489, 6.1457, 6.1446, 6.1363, 6.1141, 6.0268, 6.0243, 5.8259, 2.1652, 2.1652, 2.1652, 2.1652, 2.1651, 2.1651, 2.1651, 2.1651, 2.1651, 2.1651, 2.1651, 2.1651, 2.1651, 2.1651, 2.1651, 2.1651, 6.3071, 6.3056, 6.2985, 6.296, 6.253, 6.2496, 6.2339, 6.2333, 6.2215, 6.2141, 6.2068, 6.1931, 6.1256, 2.2039, 2.2039, 2.2039, 2.2038, 2.2038, 2.2038, 2.2038, 2.2038, 2.2038, 2.2038, 2.2038, 2.2038, 2.2038, 2.2038, 2.2038, 2.2038, 2.2038, 2.2038, 2.2038, 2.2038, 2.2038, 2.2038, 2.2038, 6.6815, 6.6393, 6.6028, 6.594, 6.592, 6.5897, 6.5816, 6.5808, 6.5681, 6.5447, 6.486, 6.4133, 6.39, 6.39, 6.39, 6.39, 6.39, 6.3622, 6.3622, 6.3622, 6.3605, 5.5066, 2.2282, 2.2282, 2.2282, 2.2282, 2.2282, 2.2282, 2.2282, 2.2282, 2.2281, 2.2281, 2.228, 6.796, 6.7667, 6.7633, 6.7508, 6.7437, 6.7269, 2.2402, 2.2402, 2.2402, 2.2402, 2.2402, 2.2402, 2.2402, 2.2402, 2.2402, 2.2402, 2.2402, 2.2402, 2.2402, 2.2402, 2.2402, 2.2402, 2.2402, 2.2402, 2.2402, 2.2402, 2.2402, 2.2402, 2.2402, 2.2402, 2.2402, 2.2402, 2.2402, 2.2402, 2.2402, 2.2402, 2.2402, 2.2402, 2.2402, 2.2401, 2.2402, 2.2402, 2.2401, 2.2401, 2.2402, 2.2401, 2.2401, 6.8629, 6.8207, 6.803, 6.7816, 6.7804, 6.7399, 6.695, 6.5156, 2.2798, 2.2798, 2.2798, 2.2798, 2.2798, 2.2798, 2.2798, 2.2798, 2.2798, 2.2798, 2.2798, 2.2798, 2.2798, 2.2798, 2.2798, 2.2798, 2.2798, 2.2797, 2.2797, 2.2797, 2.2797, 2.2797, 2.2797, 2.2797, 2.2797, 2.2797, 2.2796, 2.2797, 2.2797, 2.2797]}, \"token.table\": {\"Topic\": [8, 10, 4, 5, 4, 4, 1, 2, 11, 11, 17, 1, 5, 17, 7, 20, 12, 1, 2, 4, 10, 5, 12, 18, 2, 3, 4, 3, 16, 19, 10, 10, 17, 18, 18, 2, 5, 6, 7, 1, 18, 1, 2, 4, 9, 19, 11, 18, 1, 2, 3, 6, 7, 4, 1, 4, 15, 6, 3, 3, 5, 3, 10, 6, 5, 6, 15, 20, 2, 6, 15, 7, 12, 15, 13, 15, 2, 3, 5, 8, 14, 9, 1, 2, 11, 13, 11, 3, 5, 13, 3, 14, 3, 18, 4, 8, 6, 5, 6, 4, 6, 10, 6, 3, 15, 4, 4, 20, 14, 12, 9, 11, 16, 14, 13, 9, 2, 14, 8, 1, 2, 7, 1, 6, 4, 18, 2, 10, 2, 5, 15, 10, 7, 8, 2, 14, 15, 2, 4, 12, 2, 3, 17, 4, 8, 6, 14, 20, 3, 5, 1, 3, 10, 15, 3, 3, 18, 11, 13, 2, 8, 3, 2, 5, 1, 3, 6, 6, 6, 6, 7, 13, 10, 9, 16, 9, 2, 12, 15, 15, 4, 2, 3, 5, 2, 5, 6, 3, 6, 10, 12, 14, 6, 6, 16, 5, 8, 8, 13, 7, 1, 5, 8, 8, 11, 7, 11, 3, 5, 5, 3, 6, 7, 18, 6, 8, 20, 2, 7, 6, 12, 18, 19, 5, 1, 17, 12, 17, 1, 8, 13, 11, 1, 4, 11, 4, 2, 4, 4, 18, 17, 16, 7, 3, 6, 1, 4, 6, 18, 4, 6, 9, 1, 12, 6, 13, 1, 8, 4, 5, 9, 1, 2, 3, 9, 6, 3, 10, 11, 15, 1, 2, 4, 8, 16, 15, 13, 1, 2, 7, 12, 15, 9, 11, 1, 9, 11, 1, 2, 4, 1, 4, 9, 16, 10, 16, 1, 3, 4, 5, 13, 12, 1, 2, 6, 15, 3, 9, 1, 14, 5, 16, 7, 1, 6, 3, 10, 3, 5, 6, 3, 9, 13, 9, 14, 4, 6, 19, 18, 15, 11, 11, 9, 15, 1, 10, 8, 9, 12, 4, 11, 2, 5, 4, 2, 2, 9, 11, 15, 7, 14, 14, 8, 14, 10, 13, 2, 6, 17, 13, 4, 2, 4, 7, 4, 11, 5, 3, 6, 4, 9, 7, 10, 19, 1, 2, 3, 5, 3, 4, 16, 1, 3, 1, 6, 4, 6, 3, 2, 3, 2, 3, 4, 6, 7, 1, 2, 13, 1, 9, 1, 9, 8, 7, 5, 2, 1, 2, 3, 4, 12, 6, 3, 8, 1, 4, 7, 5, 2, 5, 4, 14, 19, 3, 12, 16, 15, 5, 5, 12, 3, 5, 9, 14, 8, 11, 14, 3, 8, 8, 1, 6, 10, 1, 2, 15, 18, 1, 2, 5, 1, 1, 2, 3, 5, 13, 9, 6, 14, 1, 2, 4, 15, 1, 2, 3, 2, 11, 8, 15, 13, 20, 4, 20, 3, 5, 1, 2, 7, 9, 13, 1, 5, 8, 4, 12, 2, 12, 11, 18, 8, 10, 10, 18, 1, 4, 6, 1, 3, 4, 6, 10, 5, 7, 8, 1, 3, 5, 1, 5, 9, 9, 12, 3, 14, 1, 4, 3, 3, 4, 13, 1, 2, 3, 14, 10, 4, 5, 10, 1, 1, 5, 8, 2, 12, 5, 13, 2, 8, 12, 11, 15, 12, 12, 4, 2, 4, 5, 9, 2, 3, 10, 1, 3, 1, 2, 4, 7, 1, 4, 14, 11, 9, 3, 10, 1, 2, 4, 4, 1, 1, 4, 2, 3, 9, 14, 2, 17, 8, 14, 10, 6, 10, 1, 13, 2, 2, 12, 12, 2, 7, 7, 16, 11, 1, 3, 4, 3, 15, 3, 16, 8, 13, 1, 12, 18, 5, 11, 7, 1, 4, 6, 8, 12, 9, 13, 13, 8, 10, 9, 3, 5, 6, 9, 5, 1, 1, 8, 3, 5, 2, 4, 15, 12, 5, 1, 5, 8, 12, 4, 4, 9, 18, 1, 3, 4, 16, 14, 14, 10, 3, 3, 5, 8, 16, 14, 3, 5, 8, 16, 5, 8, 9, 6, 2, 11, 2, 14, 12, 10, 12, 12, 9, 20, 9, 9, 1, 2, 9, 3, 4, 4, 10, 1, 3, 8, 6, 12, 2, 4, 5, 1, 13, 5, 14, 1, 3, 9, 6, 5, 14, 10, 9, 16, 13, 3, 1, 18, 18, 15, 4, 7, 1, 1, 13, 1, 3, 3, 6, 16, 7, 2, 11, 14, 15, 12, 1, 4, 4, 1, 13, 1, 2, 5, 18, 15, 2, 8, 14, 17, 1, 2, 5, 8, 7, 17, 17, 2, 5, 8, 12, 5, 15, 11, 14, 3, 5, 1, 6, 14, 1, 4, 17, 3, 11, 10, 1, 7, 12, 8, 11, 8, 9, 8, 13, 13, 1, 4, 1, 2, 5, 1, 4, 6, 8, 1, 2, 1, 3, 9], \"Freq\": [0.9988711049371574, 0.9952451274551329, 0.9985753151514382, 0.9993472600710991, 0.9987131539940328, 0.9985130707946115, 0.9992922467081284, 0.9987699733837485, 0.9917063356707301, 0.9909003924036208, 0.9137964506474676, 0.9989249147906231, 0.9980580707826934, 0.9078262499008882, 0.9807880513493065, 0.9568468936507705, 0.9915577550981192, 0.14188222471793543, 0.2808981418658116, 0.5768443984744345, 0.9915929212978081, 0.9977728835720452, 0.9991262884769623, 0.9864811496715591, 0.1812193507801387, 0.8183186308665639, 0.9986240036323184, 0.9984961304736398, 0.9115106628570037, 0.9518491690515196, 0.9957404552251069, 0.9971857033100148, 0.9039261519148447, 0.7823954974679506, 0.8304218017481214, 0.909057947781768, 0.0907950690841717, 0.9981653381079255, 0.9999764747961011, 0.9992891880348306, 0.8736318069159187, 0.08405497412191665, 0.798021926931292, 0.11757689832530008, 0.9974429623588656, 0.9662724797401632, 0.9892828360300758, 0.8272781711628268, 0.22298593716360096, 0.07399975790827465, 0.2555458306432418, 0.44695853776597894, 0.9860896484966106, 0.9989471538144783, 0.1612119423779654, 0.8384682982441602, 0.9239455182690051, 0.998520954172058, 0.9992273476954937, 0.9975922590831559, 0.9994609055553946, 0.9989705178765063, 0.9941154226309566, 0.9982647457762331, 0.9976968143687742, 0.9991427416018229, 0.4207960842236294, 0.8487568767585297, 0.8931028761033891, 0.10647187228840403, 0.8993446309826807, 0.9979536023948934, 0.9909717651254435, 0.9492625326423174, 0.9643119893721496, 0.9822273874485217, 0.9989919670403401, 0.3377244351143832, 0.6618622550230153, 0.9958968272919272, 0.9962442089960053, 0.9866352572188632, 0.6129910892215015, 0.38698253769353885, 0.9915881270368674, 0.9843899905981113, 0.9896152545127697, 0.9997094116442337, 0.9994706980349358, 0.9965804269313174, 0.9989501046507862, 0.9760716734447213, 0.9989715060762951, 0.8425618125850989, 0.1717596387498518, 0.826775210253524, 0.9995771038327005, 0.9991987173599405, 0.9985446538547559, 0.9374298541590073, 0.0609440212514721, 0.996921963333469, 0.9992163912798485, 0.9983956426776229, 0.9508989009561043, 0.9995886183774796, 0.9970381744237111, 0.6091704332070363, 0.9702191934120002, 0.9812024893537102, 0.12301348028706299, 0.8764710470453239, 0.9442030893213682, 0.980639567338485, 0.9544369482708652, 0.9942463250400679, 0.9990494710564881, 0.9142118852315627, 0.998680106668257, 0.1512161122209497, 0.8483144724855896, 0.9966081415986123, 0.9990066459132667, 0.0009046924572454306, 0.9977300379215024, 0.7305554430569067, 0.9988055223738715, 0.9916524610356158, 0.9986962269212094, 0.9994869121446927, 0.817752106184723, 0.9947386331268602, 0.9896299996615432, 0.9876069163164248, 0.9985092057110592, 0.9872280865676855, 0.9818795014770235, 0.9988756113836901, 0.5324980112476846, 0.46593575984172403, 0.3201786684824223, 0.6795949188867101, 0.9913444307732218, 0.36796601832433756, 0.6320027032288241, 0.9986203481450145, 0.9498607035050682, 0.9245666537339966, 0.7568857555496026, 0.2414966223932584, 0.9995853747919057, 0.9995645857319098, 0.9826656498832523, 0.8874615407550657, 0.9984019017201363, 0.9980024778959843, 0.8425618125850989, 0.9863527953538438, 0.9356859952765443, 0.9983609406569828, 0.9884547564690906, 0.9992017536260835, 0.9981652662964828, 0.9996044980994142, 0.9307863027045384, 0.04909007387583398, 0.019892709675174553, 0.999440688801272, 0.9962468979421796, 0.999249780450874, 0.992154516705621, 0.966276203545326, 0.9900570899302455, 0.9956425932783706, 0.6608695721665975, 0.9849819682250508, 0.9985240819867325, 0.9812011443991141, 0.9705160998381523, 0.9573491721001871, 0.9965719353217248, 0.0139587099404727, 0.15441822871647923, 0.8305432414581255, 0.9991314147159084, 0.9994016794079326, 0.9983324634673322, 0.8780025602196516, 0.12127107185354304, 0.6655323610091876, 0.33077356864528484, 0.937416340616995, 0.9971566868068618, 0.9985765000130196, 0.947423235390166, 0.9620891485764596, 0.03736268538161008, 0.9994530069377952, 0.9922701790479014, 0.9966819292964925, 0.6236901607363871, 0.05048144904132637, 0.32527965954854654, 0.9975287651721875, 0.9966771318588704, 0.9885170220380589, 0.9832180868881263, 0.11291958803880656, 0.8866840134590851, 0.9993727351769764, 0.9987309235190603, 0.9991471419187612, 0.9931927287199263, 0.8577372994033511, 0.9982165885041789, 0.9933011356406456, 0.8689139925714015, 0.9983997115966982, 0.9878519732133955, 0.2475039920591864, 0.7504959759214039, 0.7823954974679506, 0.9631017609904797, 0.9984534413890033, 0.9995910355173907, 0.9890154366092503, 0.9776522662121052, 0.9380914097202353, 0.6754243759789138, 0.32186890015785274, 0.9679971276358615, 0.9910762385237937, 0.9523255077765718, 0.04762806451370822, 0.9908817313219462, 0.9991221881549145, 0.06151863658071129, 0.937959472022793, 0.9985435807776388, 0.7482654853824324, 0.9804429467300929, 0.952614619674761, 0.9787881113185305, 0.9842977319155227, 0.015040203034362825, 0.2405500526968824, 0.7551263085653624, 0.003825845768538885, 0.8425618125850989, 0.9985031496914676, 0.9984640649082671, 0.9980235521862069, 0.8515533068408332, 0.1469884879472094, 0.9974015409245608, 0.9924047007255667, 0.9996614164356291, 0.999406204025208, 0.5493174659661963, 0.14175934605579263, 0.3063014441562662, 0.8082086841183879, 0.19154215161309543, 0.46742514972431143, 0.530448765417477, 0.9996268269617868, 0.998274239266308, 0.9959945339502292, 0.9918721028495507, 0.9782647569455883, 0.08309796296359966, 0.3371744684278432, 0.5798922595301559, 0.9990779500220385, 0.9592524517395079, 0.9907759350511723, 0.9240836949654428, 0.19153860368282616, 0.8073052866162868, 0.9876816690294983, 0.9879842019337574, 0.8209518960421847, 0.9993077435727553, 0.9944194851564125, 0.9998182484563439, 0.9945098269041757, 0.9899382104044904, 0.8769433976391211, 0.038429806795042064, 0.08429764071170517, 0.999751337736166, 0.25792320336949626, 0.7402395936704542, 0.9575068410905561, 0.9897316422498176, 0.7357970684661943, 0.9997934356924412, 0.8871268014434168, 0.11260195837136451, 0.9994539316799176, 0.9641929054043814, 0.9819520691008077, 0.07967244349748633, 0.8018316428913688, 0.11797650287127782, 0.9167701871472705, 0.9994563005456023, 0.987001792174633, 0.999415177257233, 0.9654392793556585, 0.9991499494641064, 0.9106290766461203, 0.9916720354501299, 0.9997322599439551, 0.998577939601582, 0.6184803217195781, 0.37836443211080073, 0.7107907293817911, 0.28880887424090834, 0.9989871315664772, 0.7461183882999117, 0.252696067338651, 0.9882480468023154, 0.996113893289501, 0.9937935574988674, 0.91459684437387, 0.08454256544632412, 0.9467294509847749, 0.8508263662174591, 0.9744998824334642, 0.990103033828694, 0.9869655345750608, 0.995515060271854, 0.8705813272552473, 0.99951160054222, 0.9857149763494288, 0.9993306545072163, 0.969477705091971, 0.9925907165405113, 0.9989956871133027, 0.9963832800534874, 0.9996021891157181, 0.9981314435997211, 0.9980789907572234, 0.9987994081621518, 0.9998044817243881, 0.984583039328085, 0.9953406605986334, 0.9556310133034334, 0.9900081795800402, 0.9872213762447979, 0.9915001903259318, 0.7978061647315742, 0.19945154118289354, 0.9876032628368061, 0.9877887235337951, 0.9990424791878615, 0.9966073312570294, 0.9073725986373001, 0.9427762172723734, 0.9990399382537863, 0.5255127594688623, 0.4742260864190937, 0.9908101627992597, 0.9975618962139605, 0.9909700150448918, 0.9995123809470658, 0.039835745338612345, 0.9591700557312753, 0.37581847556412507, 0.6181224927041531, 0.9979245658458867, 0.9940971700862279, 0.9462703209314103, 0.060605717520390276, 0.3220008122170301, 0.530168276743588, 0.08642902324646962, 0.9983516656601349, 0.9995672820767482, 0.9676032033442189, 0.5664597568215783, 0.4332409602568198, 0.9996760416452547, 0.9975523998078225, 0.05421179909389983, 0.9451986618489359, 0.9980856185368988, 0.9714934249114948, 0.028054304771547592, 0.9993325334094777, 0.3611043637257816, 0.1650150504859655, 0.4730788622698296, 0.9989700654937328, 0.9701520883123017, 0.029577807570497, 0.9859569766864096, 0.8848941896810703, 0.1137422956075904, 0.9994678541299615, 0.993033103776358, 0.9947209399670792, 0.9940174915198295, 0.9987559042414613, 0.9993797667069804, 0.9693541469165201, 0.014279782136052797, 0.005165027581125479, 0.011089618041828236, 0.9708376860774318, 0.9995927117723082, 0.9986463880578375, 0.9904118615795007, 0.483743772813186, 0.5162188792398055, 0.9967400641792222, 0.9994637637584873, 0.9567323993548149, 0.04234858858932785, 0.9976467917126232, 0.9619589888501442, 0.9823746306791262, 0.9991810700312865, 0.978721454561043, 0.9619114907581894, 0.9940466073220069, 0.9983804901450457, 0.9989244667247971, 0.9851584271620658, 0.9984846818121467, 0.9984368673209317, 0.9968460309631489, 0.9907691018811816, 0.9985110716257678, 0.9978021069958836, 0.9736122661067701, 0.9989585237985719, 0.9856020074192373, 0.9897461856360262, 0.9998140648701958, 0.9985286828846575, 0.9895915401280044, 0.27462061905774543, 0.7250234566923165, 0.9923554472987959, 0.7823954974679506, 0.5568183707773665, 0.13434861853058552, 0.3086241357409435, 0.9996987873438696, 0.13311124155652632, 0.5461266355937996, 0.1638949976338386, 0.15648409339300418, 0.9606815712415395, 0.9825434559227451, 0.9981382692935012, 0.9635942772684651, 0.058904874903732016, 0.8784189470019037, 0.061850118648918616, 0.9798327138282421, 0.16769148417433008, 0.8215315514409705, 0.010343586874304473, 0.9989144820062964, 0.9963322977771711, 0.9971117041843267, 0.9723973821939857, 0.9899530207027366, 0.9130574214907354, 0.9986067201339596, 0.9836653613061045, 0.9446434091074117, 0.055016406726206134, 0.004594772571257854, 0.9940024662487824, 0.9961131969440044, 0.9801621446376777, 0.9943214149060828, 0.009476817606581459, 0.7190535358993682, 0.27008930178757157, 0.9560292323886579, 0.04262550717656437, 0.99826159954875, 0.988870727251885, 0.9964734631488543, 0.7823954974679506, 0.9933437304638785, 0.9984753483649503, 0.9983958004582962, 0.9666132646636051, 0.6056067067194852, 0.18944306668318914, 0.20484295468453226, 0.2016692346335081, 0.034205382552679825, 0.7118995243776488, 0.05130807382901973, 0.9928595507425269, 0.9991319075396592, 0.9871131983059563, 0.9908979476110328, 0.026247064400188036, 0.9358087961143965, 0.037351591646421434, 0.17327982520683505, 0.02372711299512679, 0.8016888178656477, 0.9989068080809183, 0.9947949512832859, 0.8535838124712043, 0.14303296317085046, 0.9114093590581025, 0.08848012068239053, 0.9989626722440399, 0.9991703378469268, 0.9988629641869283, 0.9573875599880889, 0.3069147797536213, 0.6927868887384647, 0.9993584685889056, 0.9298625145801157, 0.9926996861426991, 0.9991736550476098, 0.9989910845784259, 0.9966642954774848, 0.999445636503755, 0.8537005086071701, 0.12907825760132996, 0.016790667655457555, 0.9977103072193265, 0.9907722758571884, 0.9991035466086327, 0.9863466006867102, 0.7927662455073682, 0.20693087503106672, 0.9918694699456174, 0.9917762902840016, 0.9880940983980662, 0.9795231040100818, 0.980237081872393, 0.9980713591307436, 0.9200459970177652, 0.07597222561895328, 0.003351715836130292, 0.9834220075013719, 0.3790103707589299, 0.6200546232918058, 0.997268202100904, 0.9893704300104906, 0.010331565902645602, 0.37591405672378614, 0.12149870213424553, 0.5023898141261816, 0.9950761259890188, 0.9994691104989241, 0.9980364818871597, 0.9914359652384421, 0.9961813617866504, 0.9956416681227243, 0.9984873001868544, 0.9871081417581536, 0.4434308217351017, 0.4916906430280386, 0.0646961372405314, 0.9987517421683926, 0.999461241403794, 0.3958877858092765, 0.6035912385410714, 0.0016798216098611615, 0.7256829354600218, 0.2721311007975082, 0.8507850464434531, 0.9992713719786382, 0.9528544853804392, 0.9959303108868077, 0.8169757256757907, 0.9980221131061543, 0.40868155913759563, 0.5898017955735755, 0.9996003566601226, 0.9941177344427228, 0.9980291291654231, 0.9984732867230744, 0.9808356442158819, 0.9875989501669449, 0.9986805160673211, 0.967706364647102, 0.9714672496439257, 0.9704389143305808, 0.9944032841331887, 0.3460348430214163, 0.3508872159296921, 0.3029700334604688, 0.9981678460764147, 0.8643148579666474, 0.9981641831706998, 0.7276079046305288, 0.991018933434696, 0.9481971717226368, 0.9655981665208784, 0.03393901205552364, 0.8561594494021406, 0.9979190699489026, 0.9943788314136635, 0.9744432502634564, 0.8136563310627751, 0.018880423151732904, 0.16740641861203173, 0.9949791275483117, 0.9980952619380411, 0.9964654611021161, 0.9657210828122157, 0.9088480177086717, 0.9988260716962173, 0.9905297578736391, 0.9979795599241301, 0.8074861394725164, 0.1202359345186904, 0.017739728043741205, 0.05387621109580663, 0.999106583771463, 0.9999323545392981, 0.9995813266768198, 0.9938736608719477, 0.3893253021355688, 0.6102731252653437, 0.9994269531663009, 0.998792458214758, 0.9528597266227746, 0.998028812541685, 0.9992129405722316, 0.6226208724717527, 0.20047590189982836, 0.17641879367184896, 0.9930257475363192, 0.9990241384312145, 0.9991767916770274, 0.9944129737892593, 0.7823954974679506, 0.07309514756102098, 0.8727994847385278, 0.054278574921550235, 0.8752917521854133, 0.9909495853721206, 0.926898625258679, 0.9958911400081673, 0.998738983043493, 0.34592226050926345, 0.30638828787963335, 0.3473341881031788, 0.9663396350610364, 0.9851000164270073, 0.945907199802791, 0.017398099512345624, 0.03662757792072763, 0.9857508168716785, 0.9144158001982219, 0.08428972459927743, 0.9916135340226271, 0.9987138222489971, 0.9993106416279595, 0.9881686773616146, 0.9996795962138034, 0.9952402398625085, 0.9807330813381755, 0.993733502728203, 0.9978925471998054, 0.9840902190262928, 0.9911489792006899, 0.8592630882292088, 0.9846341860891414, 0.9979972359228002, 0.9959718550334988, 0.0037255805051128383, 0.9908822702168828, 0.3797069183757049, 0.6198735096050586, 0.9996389381185818, 0.9972316486821803, 0.9969075395343888, 0.0025731389294766675, 0.9931806539012438, 0.9991957790853059, 0.9967823982529044, 0.9646875497728384, 0.0071427214051124795, 0.028150725537796243, 0.9996215304167073, 0.9695480812079743, 0.9996988441152643, 0.7767581378627731, 0.9805246382647068, 0.019298048175781485, 0.9900939377713015, 0.9992718694481857, 0.9976499571413864, 0.9810971169946071, 0.9880183193541159, 0.9995804325953108, 0.9905042469967341, 0.9917249525916898, 0.9987399625655805, 0.9998149850988022, 0.8739698739640148, 0.8461709718240302, 0.9272675743954719, 0.997703450903513, 0.9798178629054146, 0.9996890419514675, 0.9998133408873585, 0.9704225156838385, 0.9997443458137224, 0.00014440912116332839, 0.7016947634600207, 0.2972736713165874, 0.8600016695400955, 0.9970391045387889, 0.9982756594629709, 0.9967275144246754, 0.9855103484790407, 0.9552094970619365, 0.985504113235645, 0.04787201406582964, 0.9517605508342062, 0.9985748828084826, 0.9998120886939833, 0.9474991765123844, 0.07213329912708522, 0.8990086964891463, 0.02809402176528582, 0.8918726076591722, 0.9889151864772778, 0.9977618463078146, 0.9931282275624634, 0.9325074433676973, 0.8336004357882203, 0.15028327386924006, 0.4185883636789405, 0.4310714403649507, 0.9945060909061426, 0.9992744452606815, 0.988596245114469, 0.8555164206352122, 0.4567458546558334, 0.2938184756403257, 0.2489676802933601, 0.9975011080769404, 0.9981948868596635, 0.9933357210912668, 0.993619126816674, 0.9715877160153131, 0.9599295497208906, 0.03834038142376338, 0.9998476033547841, 0.9988278529440483, 0.9729995885533752, 0.9806083352153911, 0.019108399800477065, 0.8820101027075213, 0.99828582683679, 0.9936953830561385, 0.9924716364722428, 0.9994404230487537, 0.9886087925855477, 0.9786567612480084, 0.9850552338157392, 0.9980548524158308, 0.07274614534962522, 0.9265561670847001, 0.9992318853851796, 0.986179898206631, 0.9013952462446974, 0.037094409337361696, 0.9626303275580912, 0.7549641747091518, 0.11491048831508255, 0.1298692501075785, 0.3598362852496361, 0.3005620885113433, 0.3388807611502397, 0.9913229400893664, 0.270649608994778, 0.728818021416513, 0.10797992428910336, 0.7845593972689852, 0.10712745120261043], \"Term\": [\"_\", \"abortion\", \"accept\", \"access\", \"act\", \"action\", \"actually\", \"address\", \"affair\", \"aid\", \"alaska\", \"always\", \"amount\", \"andi\", \"andrew_cmu\", \"angel\", \"announcement\", \"answer\", \"answer\", \"answer\", \"apology\", \"apple\", \"application\", \"apr\", \"area\", \"area\", \"argument\", \"army\", \"arrangement\", \"atf\", \"atheism\", \"atheist\", \"atmospheric\", \"au_moin\", \"autre\", \"available\", \"available\", \"away\", \"ax\", \"bad\", \"baerga\", \"base\", \"base\", \"base\", \"baseball\", \"batf\", \"battle\", \"baud\", \"begin\", \"begin\", \"begin\", \"begin\", \"behave\", \"belief\", \"believe\", \"believe\", \"biased\", \"bible\", \"bike\", \"bill\", \"bit\", \"black\", \"blame\", \"blood\", \"board\", \"body\", \"boise\", \"bolt\", \"book\", \"book\", \"boulder\", \"brain\", \"brand\", \"broad\", \"bruin\", \"buffer\", \"business\", \"buy\", \"buy\", \"byte\", \"cable\", \"calculate\", \"call\", \"call\", \"camp\", \"capital\", \"captain\", \"car\", \"card\", \"career\", \"carry\", \"cd\", \"center\", \"ceux_qui\", \"character\", \"character\", \"child\", \"chip\", \"choose\", \"christian\", \"christian\", \"christianity\", \"church\", \"city\", \"civil_libertie\", \"claim\", \"clearly\", \"clever\", \"click\", \"clipper_chip\", \"close\", \"close\", \"closely\", \"cloud\", \"clue\", \"coach\", \"code\", \"collector\", \"color\", \"com\", \"com\", \"combination\", \"come\", \"come\", \"command\", \"comme_aucun\", \"company\", \"compel\", \"complete\", \"computer\", \"concentration\", \"condemn\", \"cone\", \"configure\", \"connect\", \"connector\", \"constitutional\", \"contact\", \"contain\", \"contain\", \"control\", \"control\", \"controller\", \"convert\", \"convert\", \"cop\", \"cord\", \"corporate\", \"cost\", \"cost\", \"course\", \"cover\", \"coverage\", \"creative\", \"crime\", \"criminal\", \"croire__etre\", \"cry\", \"ct\", \"current\", \"custom\", \"cut\", \"date\", \"datum\", \"day\", \"day\", \"day\", \"dead\", \"dealer\", \"death\", \"dedicated\", \"defeat\", \"defend\", \"defense\", \"defenseman\", \"defensive\", \"define\", \"deliver\", \"democracy\", \"democratic\", \"deny\", \"design\", \"design\", \"design\", \"detail\", \"device\", \"die\", \"difference\", \"difference\", \"difficult\", \"difficult\", \"disconnect\", \"discuss\", \"discussion\", \"dish\", \"disk\", \"disk\", \"display\", \"division\", \"dm\", \"do\", \"do\", \"do\", \"documentation\", \"dod\", \"domain\", \"drag\", \"drive\", \"drive\", \"driver\", \"drop\", \"drug\", \"dual\", \"earn\", \"earth\", \"editor\", \"election\", \"email\", \"employee\", \"enable\", \"enable\", \"ends_rousseau\", \"engage\", \"engine\", \"enough\", \"environment\", \"equation\", \"erase\", \"error\", \"error\", \"espn\", \"estimate\", \"even\", \"even\", \"evening\", \"evidence\", \"exist\", \"exist\", \"existence\", \"existent\", \"experiment\", \"extract\", \"fabrication\", \"face\", \"face\", \"fact\", \"fact\", \"fact\", \"fait_comme\", \"faith\", \"family\", \"fan\", \"fast\", \"fast\", \"father\", \"fax\", \"feel\", \"file\", \"final\", \"final\", \"final\", \"find\", \"find\", \"finish\", \"finish\", \"fire\", \"firearm\", \"flame\", \"flyer\", \"focus\", \"follow\", \"follow\", \"follow\", \"format\", \"forth\", \"frame\", \"frank\", \"free\", \"free\", \"frequent\", \"ftp_site\", \"fundamentally\", \"game\", \"gear\", \"get\", \"giant\", \"girl\", \"give\", \"give\", \"give\", \"go\", \"goal\", \"goal\", \"goalie\", \"going\", \"golf\", \"good\", \"government\", \"government\", \"graphic\", \"grasp\", \"gravity\", \"group\", \"group\", \"group\", \"guidance\", \"gun\", \"hab\", \"happen\", \"hard_drive\", \"hardware\", \"harmful\", \"hat\", \"hear\", \"heart\", \"hell\", \"hell\", \"high\", \"high\", \"history\", \"hit\", \"hit\", \"hmmm\", \"hockey\", \"hook\", \"human\", \"human\", \"human_being\", \"humanitarian\", \"humanity\", \"hurt\", \"husband\", \"ice\", \"idaho\", \"idea\", \"ignorance\", \"image\", \"immediate\", \"implement\", \"imply\", \"incline\", \"include\", \"increase\", \"indeed\", \"info\", \"information\", \"initially\", \"input\", \"inquiry\", \"insane\", \"insert\", \"instal\", \"install\", \"install\", \"instruction\", \"instrument\", \"interested\", \"inthe\", \"invoke\", \"islander\", \"israeli\", \"issue\", \"issue\", \"isto\", \"jewish\", \"joke\", \"key\", \"kill\", \"kill\", \"king\", \"king\", \"kit\", \"knock\", \"koresh\", \"large\", \"large\", \"large\", \"large\", \"launch\", \"law\", \"leafs\", \"leave\", \"leave\", \"let\", \"lie\", \"life\", \"life\", \"light\", \"line\", \"line\", \"list\", \"live\", \"live\", \"live\", \"local\", \"look\", \"look\", \"los_angele\", \"lose\", \"lose\", \"lot\", \"lunar\", \"m\", \"mac\", \"machine\", \"mail\", \"make\", \"make\", \"make\", \"make\", \"makes_sense\", \"man\", \"manage\", \"maximum\", \"mean\", \"mean\", \"meg\", \"memory\", \"message\", \"message\", \"mhz\", \"micro\", \"mile\", \"military\", \"minimal\", \"mirror\", \"mit\", \"mode\", \"model\", \"module\", \"money\", \"monitor\", \"moon\", \"motherboard\", \"motif\", \"motorcycle\", \"mount\", \"move\", \"ms_do\", \"ms_window\", \"much\", \"murder\", \"muslim\", \"name\", \"name\", \"nature\", \"ne_vaux\", \"need\", \"need\", \"need\", \"never\", \"new\", \"new\", \"new\", \"new\", \"new_jersey\", \"nhl\", \"night\", \"north\", \"note\", \"note\", \"note\", \"null\", \"number\", \"number\", \"number\", \"object\", \"objective\", \"obscure\", \"offender\", \"offense\", \"officially\", \"often\", \"oil\", \"old\", \"old\", \"option\", \"option\", \"orient\", \"out\", \"owner\", \"package\", \"package\", \"package\", \"page\", \"page\", \"paper\", \"parameter\", \"parent\", \"pas_mieux\", \"patch\", \"pay\", \"peace\", \"penguin\", \"people\", \"people\", \"people\", \"person\", \"person\", \"person\", \"person\", \"perspective\", \"phone\", \"piss\", \"pit\", \"plan\", \"plan\", \"plan\", \"play\", \"play\", \"play\", \"player\", \"plot\", \"plug\", \"plug\", \"point\", \"point\", \"police\", \"policy\", \"political\", \"pose\", \"post\", \"post\", \"power\", \"power_supply\", \"pray\", \"press\", \"price\", \"principle\", \"probably\", \"problem\", \"problem\", \"problem\", \"process\", \"processor\", \"product\", \"production\", \"program\", \"program\", \"programming\", \"promote\", \"propaganda\", \"prospect\", \"protocol\", \"prove\", \"provide\", \"provide\", \"provide\", \"pt\", \"public\", \"public\", \"punishment\", \"put\", \"put\", \"question\", \"question\", \"question\", \"quit\", \"quite\", \"quote\", \"ram\", \"range\", \"ranger\", \"rate\", \"rational\", \"read\", \"read\", \"read\", \"reality\", \"really\", \"reason\", \"reason\", \"record\", \"record\", \"record\", \"recorder\", \"reference\", \"refresh\", \"regional\", \"reinstall\", \"religion\", \"religious\", \"religious\", \"remember\", \"repair\", \"request\", \"research\", \"researcher\", \"restriction\", \"return\", \"reusable\", \"revision\", \"rich\", \"rider\", \"right\", \"right\", \"right\", \"risk\", \"rkba\", \"road\", \"roster\", \"rot\", \"rs\", \"run\", \"run\", \"ryan\", \"sale\", \"san_jose\", \"sarcasm\", \"say\", \"say\", \"say\", \"scan\", \"scientific\", \"score\", \"scoring\", \"scrap\", \"screen\", \"sea\", \"season\", \"second\", \"second\", \"second\", \"second\", \"secret\", \"see\", \"seem\", \"select\", \"sell\", \"sell\", \"send\", \"sense\", \"separation\", \"server\", \"service\", \"set\", \"set\", \"set\", \"sheet\", \"ship\", \"shoot\", \"shuttle\", \"si_je\", \"side\", \"side\", \"side\", \"sigh\", \"simms\", \"simultaneously\", \"sin\", \"site\", \"size\", \"size\", \"size\", \"skin\", \"slot\", \"small\", \"small\", \"small\", \"smoke\", \"software\", \"software\", \"solar\", \"son\", \"source\", \"southern\", \"space\", \"spare\", \"specification\", \"speech\", \"speed\", \"spin\", \"ss\", \"standard_disclaimer\", \"standing\", \"star\", \"start\", \"start\", \"stat\", \"state\", \"state\", \"statement\", \"step\", \"still\", \"still\", \"storage\", \"study\", \"sun\", \"support\", \"support\", \"support\", \"sure\", \"sweep\", \"system\", \"tab\", \"take\", \"take\", \"talent\", \"tank\", \"tape\", \"task\", \"teaching\", \"team\", \"tear_gas\", \"technical\", \"technology\", \"tell\", \"temp\", \"terribly\", \"thatis\", \"therefore\", \"theti_dseg\", \"thing\", \"think\", \"tiger\", \"time\", \"time\", \"today\", \"today\", \"todd\", \"tonight\", \"tool\", \"tour\", \"tower\", \"toxic\", \"traditional\", \"true\", \"true\", \"truth\", \"try\", \"ttl\", \"type\", \"type\", \"type\", \"unfair\", \"united_state\", \"university\", \"unix\", \"unplug\", \"upcoming\", \"use\", \"use\", \"use\", \"usenet\", \"user\", \"utility\", \"vacuum\", \"version\", \"version\", \"version\", \"vga\", \"video\", \"violation\", \"visit\", \"vram\", \"wait\", \"wait\", \"want\", \"war\", \"warranty\", \"way\", \"way\", \"wayne\", \"weapon\", \"wear\", \"weeks_ago\", \"well\", \"whenyou\", \"widespread\", \"width\", \"wife\", \"win\", \"win\", \"window\", \"winner\", \"winnipeg\", \"word\", \"word\", \"work\", \"work\", \"work\", \"world\", \"world\", \"world\", \"wrap\", \"write\", \"write\", \"year\", \"year\", \"year\"]}, \"R\": 30, \"lambda.step\": 0.01, \"plot.opts\": {\"xlab\": \"PC1\", \"ylab\": \"PC2\"}, \"topic.order\": [9, 19, 13, 2, 4, 15, 7, 8, 11, 20, 16, 17, 14, 1, 10, 3, 12, 6, 18, 5]};\n",
       "\n",
       "function LDAvis_load_lib(url, callback){\n",
       "  var s = document.createElement('script');\n",
       "  s.src = url;\n",
       "  s.async = true;\n",
       "  s.onreadystatechange = s.onload = callback;\n",
       "  s.onerror = function(){console.warn(\"failed to load library \" + url);};\n",
       "  document.getElementsByTagName(\"head\")[0].appendChild(s);\n",
       "}\n",
       "\n",
       "if(typeof(LDAvis) !== \"undefined\"){\n",
       "   // already loaded: just create the visualization\n",
       "   !function(LDAvis){\n",
       "       new LDAvis(\"#\" + \"ldavis_el386271407117308783841718425597\", ldavis_el386271407117308783841718425597_data);\n",
       "   }(LDAvis);\n",
       "}else if(typeof define === \"function\" && define.amd){\n",
       "   // require.js is available: use it to load d3/LDAvis\n",
       "   require.config({paths: {d3: \"https://d3js.org/d3.v5\"}});\n",
       "   require([\"d3\"], function(d3){\n",
       "      window.d3 = d3;\n",
       "      LDAvis_load_lib(\"https://cdn.jsdelivr.net/gh/bmabey/pyLDAvis@3.2.2/pyLDAvis/js/ldavis.v3.0.0.js\", function(){\n",
       "        new LDAvis(\"#\" + \"ldavis_el386271407117308783841718425597\", ldavis_el386271407117308783841718425597_data);\n",
       "      });\n",
       "    });\n",
       "}else{\n",
       "    // require.js not available: dynamically load d3 & LDAvis\n",
       "    LDAvis_load_lib(\"https://d3js.org/d3.v5.js\", function(){\n",
       "         LDAvis_load_lib(\"https://cdn.jsdelivr.net/gh/bmabey/pyLDAvis@3.2.2/pyLDAvis/js/ldavis.v3.0.0.js\", function(){\n",
       "                 new LDAvis(\"#\" + \"ldavis_el386271407117308783841718425597\", ldavis_el386271407117308783841718425597_data);\n",
       "            })\n",
       "         });\n",
       "}\n",
       "</script>"
      ],
      "text/plain": [
       "<IPython.core.display.HTML object>"
      ]
     },
     "execution_count": 39,
     "metadata": {},
     "output_type": "execute_result"
    }
   ],
   "source": [
    "pyLDAvis.display(vis)"
   ]
  },
  {
   "cell_type": "code",
   "execution_count": 45,
   "metadata": {},
   "outputs": [],
   "source": [
    "lda_model.save('model/my_model.model')"
   ]
  },
  {
   "cell_type": "code",
   "execution_count": 46,
   "metadata": {},
   "outputs": [],
   "source": [
    "top_topics = lda_model.get_document_topics(corpus[1], minimum_probability=0.0)"
   ]
  },
  {
   "cell_type": "code",
   "execution_count": 47,
   "metadata": {},
   "outputs": [
    {
     "data": {
      "text/plain": [
       "<gensim.models.ldamodel.LdaModel at 0x7ff93c3a9220>"
      ]
     },
     "execution_count": 47,
     "metadata": {},
     "output_type": "execute_result"
    }
   ],
   "source": [
    "lda_model"
   ]
  },
  {
   "cell_type": "code",
   "execution_count": 48,
   "metadata": {},
   "outputs": [
    {
     "data": {
      "text/plain": [
       "[(0, 0.0014234676),\n",
       " (1, 0.027277717),\n",
       " (2, 0.00074072013),\n",
       " (3, 0.24603324),\n",
       " (4, 0.027296685),\n",
       " (5, 0.0004717127),\n",
       " (6, 0.0017141411),\n",
       " (7, 0.1939084),\n",
       " (8, 0.28774044),\n",
       " (9, 0.001081198),\n",
       " (10, 0.0029121547),\n",
       " (11, 0.00066121755),\n",
       " (12, 0.09771441),\n",
       " (13, 0.0015545117),\n",
       " (14, 0.033795662),\n",
       " (15, 0.0033423344),\n",
       " (16, 0.002547096),\n",
       " (17, 0.00040381803),\n",
       " (18, 0.06607294),\n",
       " (19, 0.0033081654)]"
      ]
     },
     "execution_count": 48,
     "metadata": {},
     "output_type": "execute_result"
    }
   ],
   "source": [
    "top_topics"
   ]
  },
  {
   "cell_type": "code",
   "execution_count": 49,
   "metadata": {},
   "outputs": [
    {
     "data": {
      "text/plain": [
       "[('system', 0.047838032),\n",
       " ('use', 0.03107872),\n",
       " ('drive', 0.027355561),\n",
       " ('bit', 0.02470283),\n",
       " ('driver', 0.021570178),\n",
       " ('card', 0.017954001),\n",
       " ('datum', 0.017951597),\n",
       " ('key', 0.016409446),\n",
       " ('memory', 0.01543947),\n",
       " ('computer', 0.013766613)]"
      ]
     },
     "execution_count": 49,
     "metadata": {},
     "output_type": "execute_result"
    }
   ],
   "source": [
    "lda_model.show_topic(3)"
   ]
  }
 ],
 "metadata": {
  "interpreter": {
   "hash": "30359583f37c871aa5b074bde0ffaeea3dfadeca383118a2133a42efaa34955b"
  },
  "kernelspec": {
   "display_name": "Python 3.8.12 ('nlp')",
   "language": "python",
   "name": "python3"
  },
  "language_info": {
   "codemirror_mode": {
    "name": "ipython",
    "version": 3
   },
   "file_extension": ".py",
   "mimetype": "text/x-python",
   "name": "python",
   "nbconvert_exporter": "python",
   "pygments_lexer": "ipython3",
   "version": "3.8.12"
  },
  "orig_nbformat": 4
 },
 "nbformat": 4,
 "nbformat_minor": 2
}
